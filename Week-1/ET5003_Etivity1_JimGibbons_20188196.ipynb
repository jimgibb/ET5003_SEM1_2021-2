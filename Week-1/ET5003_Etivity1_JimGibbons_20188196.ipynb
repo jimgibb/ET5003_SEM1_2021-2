{
 "cells": [
  {
   "cell_type": "markdown",
   "metadata": {
    "id": "jxK1_8f1dvrc"
   },
   "source": [
    "<div>\n",
    "<img src=\"https://drive.google.com/uc?export=view&id=1vK33e_EqaHgBHcbRV_m38hx6IkG0blK_\" width=\"350\"/>\n",
    "</div> \n",
    "\n",
    "# **Artificial Intelligence - MSc**\n",
    "ET5003 - MACHINE LEARNING APPLICATIONS \n",
    "\n",
    "### Instructor: Enrique Naredo\n",
    "### ET5003_Etivity-1"
   ]
  },
  {
   "cell_type": "markdown",
   "metadata": {
    "cellView": "form",
    "id": "LqXD_IwUQuBF"
   },
   "source": [
    "### Current Date\n",
    "Today = '2021-08-22'\n"
   ]
  },
  {
   "cell_type": "markdown",
   "metadata": {
    "cellView": "form",
    "id": "uzDKau31OjVO"
   },
   "source": [
    "---\n",
    "### Enter your details here:\n",
    "Student_ID = 20188196  \n",
    "Student_full_name = Jim Gibbons\n",
    "---"
   ]
  },
  {
   "cell_type": "markdown",
   "metadata": {
    "cellView": "form",
    "id": "r39xGZckTpKx"
   },
   "source": [
    "#@title Notebook information\n",
    "Notebook_type = 'Example' #@param [\"Example\", \"Lab\", \"Practice\", \"Etivity\", \"Assignment\", \"Exam\"]\n",
    "Version = 'Draft' #@param [\"Draft\", \"Final\"] {type:\"raw\"}\n",
    "Submission = False #@param {type:\"boolean\"}"
   ]
  },
  {
   "cell_type": "markdown",
   "metadata": {
    "id": "80m304lUefG4"
   },
   "source": [
    "## MNIST dataset"
   ]
  },
  {
   "cell_type": "markdown",
   "metadata": {
    "id": "Bs8mHGcidHSa"
   },
   "source": [
    "\n",
    "\n",
    "The MNIST database  is a dataset of handwritten digits that has been and is extensively used in machine learning. There are $10$ classes, each image is $28\\times28$ pixels and, therefore, each input is $x_i\\in\\mathbb{R}^{784}$. "
   ]
  },
  {
   "cell_type": "markdown",
   "metadata": {
    "id": "ailycCq5epj2"
   },
   "source": [
    "## Task"
   ]
  },
  {
   "cell_type": "markdown",
   "metadata": {
    "id": "a-yNAxhUemjM"
   },
   "source": [
    "You have to extend the code to manage any arbitrary number of classes, in other words you have to implement a general-recipe multinomial logistic classifier and Bayesian multinomial logistic classifier.\n",
    "\n",
    "You must then select  3 digits at random and perform  the following task. \n",
    "\n",
    "1. Your goal is to use Bayesian multinomial logistic regression (as in the road-sign notebook) to solve this classification problem. \n",
    "\n",
    "2. You can downsize the training dataset (e.g., 40% training and 60%testing) if the computation of the posterior takes too much time in your computer.\n",
    "\n",
    "3. Use the posterior uncertainty to detect the instances (digits) in the test set that are hard to classify and remove them from the test-set.\n",
    "\n",
    "4. Then you need to compute again the accuracy of the general-recipe logistic regression on the remaining (non-difficult) instances and comment on the result.\n",
    "\n",
    "5. In practice, the task is to use uncertainty estimation to detect the difficult instances in the test-set. This is equivalent to refuse to classify all high-uncertainty instances or, in other words, when we are uncertain we say \"I don't know\" and we do not return any class. In this way, you will learn how uncertainty can be used to make safer decisions, by detecting the instances that are difficult to classify.\n"
   ]
  },
  {
   "cell_type": "markdown",
   "metadata": {
    "id": "nMRKRTQZe5fW"
   },
   "source": [
    "## Libraries"
   ]
  },
  {
   "cell_type": "code",
   "execution_count": 1,
   "metadata": {
    "id": "IxusAui7AX_f"
   },
   "outputs": [],
   "source": [
    "# Suppressing Warnings:\n",
    "import warnings\n",
    "warnings.filterwarnings(\"ignore\")"
   ]
  },
  {
   "cell_type": "code",
   "execution_count": 2,
   "metadata": {
    "id": "MQOfGMQpdHSb"
   },
   "outputs": [],
   "source": [
    "# Import libraries\n",
    "from sklearn.linear_model import LogisticRegression\n",
    "from sklearn.metrics import accuracy_score\n",
    "from sklearn.model_selection import train_test_split\n",
    "import scipy.optimize as optimize\n",
    "from scipy.special import erf\n",
    "import pandas as pd\n",
    "import numpy as np\n",
    "import seaborn as sns\n",
    "from tqdm import tqdm\n",
    "from skimage.io import imread, imshow\n",
    "import matplotlib.image as mpimg\n",
    "import matplotlib.pyplot as plt\n",
    "import matplotlib\n",
    "%matplotlib inline\n",
    "import arviz as az\n",
    "from scipy.io import loadmat\n",
    "import pymc3 as pm\n",
    "import random\n",
    "from IPython.display import HTML\n",
    "import pickle\n",
    "import theano as tt\n",
    "import cv2\n",
    "from sklearn.utils import shuffle\n",
    "from skimage.color import rgb2gray"
   ]
  },
  {
   "cell_type": "code",
   "execution_count": 3,
   "metadata": {
    "id": "P5-qMSjpAQ-9"
   },
   "outputs": [],
   "source": [
    "# Setting a seed:\n",
    "np.random.seed(123)"
   ]
  },
  {
   "cell_type": "markdown",
   "metadata": {
    "id": "r4hSuwkUfVQb"
   },
   "source": [
    "## Dataset"
   ]
  },
  {
   "cell_type": "markdown",
   "metadata": {
    "id": "w99Pc66YdHSd"
   },
   "source": [
    "### Loading the MNIST dataset"
   ]
  },
  {
   "cell_type": "code",
   "execution_count": 4,
   "metadata": {},
   "outputs": [],
   "source": [
    "RunningInCOLAB = 'google.colab' in str(get_ipython())"
   ]
  },
  {
   "cell_type": "code",
   "execution_count": 5,
   "metadata": {
    "colab": {
     "base_uri": "https://localhost:8080/"
    },
    "id": "CYFWAbXVzynp",
    "outputId": "a18b4283-3b97-4eb3-e0ed-d2f241176139"
   },
   "outputs": [],
   "source": [
    "if RunningInCOLAB:\n",
    "    from google.colab import drive\n",
    "    drive.mount('/content/drive')"
   ]
  },
  {
   "cell_type": "code",
   "execution_count": 6,
   "metadata": {
    "colab": {
     "base_uri": "https://localhost:8080/"
    },
    "id": "g4rCnS4vdHSd",
    "outputId": "87b5c3c5-8f1f-4133-f7c6-808adc4d73e2"
   },
   "outputs": [
    {
     "name": "stdout",
     "output_type": "stream",
     "text": [
      "(60000, 784)\n",
      "(10000, 784)\n"
     ]
    }
   ],
   "source": [
    "if RunningInCOLAB:\n",
    "    Path = '/content/drive/MyDrive/MScAI/ET5003/etivity-data/etivity-1/mnist-dataset/'\n",
    "else:\n",
    "    Path = '/home/jim/Courses/MastersAI/ET5003/data/mnist_dataset/'\n",
    "\n",
    "# MNIST Data\n",
    "train_data = Path + 'mnist_train.csv'\n",
    "test_data = Path + 'mnist_test.csv'\n",
    "\n",
    "# train data\n",
    "df_train = pd.read_csv(train_data)\n",
    "X_train = df_train.drop(\"label\",axis=1).values\n",
    "y_train = df_train.label.values\n",
    "print(X_train.shape)\n",
    "\n",
    "# test data\n",
    "df_test = pd.read_csv(test_data)\n",
    "X_test = df_test.drop(\"label\",axis=1).values\n",
    "y_test = df_test.label.values\n",
    "print(X_test.shape)"
   ]
  },
  {
   "cell_type": "markdown",
   "metadata": {},
   "source": [
    "The MNIST dataset is seen to contain 60,000 training images and 10,000 test images. We see the shape of the image data as read into the `X_train` and `X_test` numpy arrays corresponds to a 2D array with each image occupying a single row. The images are 28x28 in size so the row length is 784 elements."
   ]
  },
  {
   "cell_type": "code",
   "execution_count": 7,
   "metadata": {
    "colab": {
     "base_uri": "https://localhost:8080/"
    },
    "id": "O2ubJ_WoAqBh",
    "outputId": "d9445837-a9ea-4b7e-a2df-180748492c6b"
   },
   "outputs": [
    {
     "name": "stdout",
     "output_type": "stream",
     "text": [
      "0.0 1.0\n"
     ]
    }
   ],
   "source": [
    "# Normalizing the Inputs:\n",
    "X_train = X_train/255\n",
    "X_test = X_test/255\n",
    "\n",
    "# Printing the new input range of values:\n",
    "minv = np.min(X_train)\n",
    "maxv = np.max(X_train)\n",
    "print(minv,maxv)"
   ]
  },
  {
   "cell_type": "markdown",
   "metadata": {},
   "source": [
    "We normalize the image data to TODO"
   ]
  },
  {
   "cell_type": "markdown",
   "metadata": {
    "id": "SR6HpkWndHSe"
   },
   "source": [
    "### Description of Data:"
   ]
  },
  {
   "cell_type": "code",
   "execution_count": 8,
   "metadata": {
    "colab": {
     "base_uri": "https://localhost:8080/"
    },
    "id": "sibN1Vv1dHSf",
    "outputId": "1003de54-5653-47cf-a6ce-67e7abaa3768"
   },
   "outputs": [
    {
     "name": "stdout",
     "output_type": "stream",
     "text": [
      "Number of Training examples = 60000\n",
      "Number of Test examples = 10000\n",
      "Image input shape = 784\n",
      "Number of classes = 10\n"
     ]
    }
   ],
   "source": [
    "# Number of examples\n",
    "n_train =  len(X_train)\n",
    "n_test =  len(X_test)\n",
    "\n",
    "# Shape of an traffic sign image\n",
    "image_shape = X_train.shape[1]\n",
    "\n",
    "# unique classes/labels in the training dataset.\n",
    "alltotal = set(y_train)\n",
    "n_classes = len(alltotal)\n",
    "\n",
    "print(\"Number of Training examples =\", n_train)\n",
    "print(\"Number of Test examples =\", n_test)\n",
    "print(\"Image input shape =\", image_shape)\n",
    "print(\"Number of classes =\", n_classes)"
   ]
  },
  {
   "cell_type": "markdown",
   "metadata": {
    "id": "6HQDSvrRKZF6"
   },
   "source": [
    "### Class Distribution:"
   ]
  },
  {
   "cell_type": "code",
   "execution_count": 9,
   "metadata": {
    "id": "XG8GdlpBKdCt"
   },
   "outputs": [
    {
     "data": {
      "image/png": "[encoded data removed]",
      "text/plain": [
       "<Figure size 432x288 with 1 Axes>"
      ]
     },
     "metadata": {
      "needs_background": "light"
     },
     "output_type": "display_data"
    }
   ],
   "source": [
    "fig, ax = plt.subplots()\n",
    "ind = np.arange(n_classes)\n",
    "\n",
    "n, bins, patches = ax.hist(y_train, n_classes)\n",
    "ax.set_xlabel('classes')\n",
    "ax.set_ylabel('counts')\n",
    "ax.set_title(r'Histogram of Digit images')\n",
    "plt.show()"
   ]
  },
  {
   "cell_type": "markdown",
   "metadata": {},
   "source": [
    "The distribution appears reasonably evenly distributed amongst the 10 classes. "
   ]
  },
  {
   "cell_type": "markdown",
   "metadata": {
    "id": "EyLWw3nsLCtk"
   },
   "source": [
    "## Downsampling"
   ]
  },
  {
   "cell_type": "markdown",
   "metadata": {
    "id": "2U1lFEwhLKBf"
   },
   "source": [
    "### Randomly selecting 3 of the 10 Digit Classes"
   ]
  },
  {
   "cell_type": "code",
   "execution_count": 10,
   "metadata": {
    "id": "0EeRZZWdLRPT"
   },
   "outputs": [
    {
     "data": {
      "text/plain": [
       "[1, 2, 6]"
      ]
     },
     "execution_count": 10,
     "metadata": {},
     "output_type": "execute_result"
    }
   ],
   "source": [
    "# We select the number of Classes we want:\n",
    "n_classes = 3\n",
    "\n",
    "# Empty list to append the random digit classes we select:\n",
    "classes = []\n",
    "\n",
    "# We select 3 digits at random and make sure they are unique:\n",
    "while len(classes) < n_classes:\n",
    "    \n",
    "    # Randomly drawing a digit from 0-9:\n",
    "    num2choose = np.random.randint(0,10)\n",
    "\n",
    "    # Append the digit if it's not already in our list of classes:\n",
    "    if num2choose not in classes: \n",
    "        classes.append(num2choose)\n",
    "        \n",
    "        \n",
    "# Sorting the Classes smallest to largest    \n",
    "classes.sort()\n",
    "# print classes selected\n",
    "classes"
   ]
  },
  {
   "cell_type": "code",
   "execution_count": 11,
   "metadata": {
    "id": "2M8R5NqKMB_M"
   },
   "outputs": [
    {
     "name": "stdout",
     "output_type": "stream",
     "text": [
      "r=1, np.where(y_train=r):[    3     6     8 ... 59979 59984 59994]\n",
      "r=2, np.where(y_train=r):[    5    16    25 ... 59983 59985 59991]\n",
      "r=6, np.where(y_train=r):[   13    18    32 ... 59982 59986 59998]\n"
     ]
    }
   ],
   "source": [
    "# The number of instances we'll keep for each of our 3 digits:\n",
    "inst_class = 500\n",
    "\n",
    "inputs = []\n",
    "labels = []\n",
    "# Loop to randomly sample the instances for each digit:\n",
    "for r in classes:\n",
    "    print(f\"r={r}, np.where(y_train=r):{np.where(y_train==r)[0]}\")\n",
    "    imgs = X_train[np.where(y_train==r)[0],:]\n",
    "    inputs.append(imgs[np.random.permutation(imgs.shape[0]),:][0:inst_class,:])\n",
    "    labels.append(np.ones(inst_class)*r)\n",
    "    \n",
    "# Shaping inputs and labels in the right format    \n",
    "X_train = np.vstack(inputs).astype(np.float64)\n",
    "y_train = np.hstack(labels)"
   ]
  },
  {
   "cell_type": "markdown",
   "metadata": {},
   "source": [
    "We select all images indices of each desired class from `X_train`, randomly arrange them and append the first `inst_class` of them to the `inputs` array."
   ]
  },
  {
   "cell_type": "code",
   "execution_count": 12,
   "metadata": {},
   "outputs": [
    {
     "name": "stdout",
     "output_type": "stream",
     "text": [
      "(1500, 784) (1500,)\n"
     ]
    }
   ],
   "source": [
    "print(X_train.shape,y_train.shape)"
   ]
  },
  {
   "cell_type": "markdown",
   "metadata": {
    "id": "_6-YHrQQMicy"
   },
   "source": [
    "New Classes Distribution"
   ]
  },
  {
   "cell_type": "code",
   "execution_count": 13,
   "metadata": {
    "id": "RA300COaMxWm"
   },
   "outputs": [
    {
     "data": {
      "image/png": "[encoded data removed]",
      "text/plain": [
       "<Figure size 432x288 with 1 Axes>"
      ]
     },
     "metadata": {
      "needs_background": "light"
     },
     "output_type": "display_data"
    }
   ],
   "source": [
    "# new histogram\n",
    "fig, ax = plt.subplots()\n",
    "ind = np.arange(n_classes)\n",
    "\n",
    "n, bins, patches = ax.hist(y_train, n_classes)\n",
    "ax.set_xlabel('classes')\n",
    "ax.set_ylabel('counts')\n",
    "ax.set_title(r'Histogram of Digit images')\n",
    "plt.show()\n",
    "\n",
    "# TODO - correct this histogram to show the bins separately and not 2 as one."
   ]
  },
  {
   "cell_type": "code",
   "execution_count": 14,
   "metadata": {
    "id": "eFgP4xugMvJm"
   },
   "outputs": [],
   "source": [
    "# plot digits\n",
    "def plot_digits(instances, images_per_row=5, **options):\n",
    "    size = 28\n",
    "    images_per_row = min(len(instances), images_per_row)\n",
    "    images = [instance.reshape(size,size) for instance in instances]\n",
    "    n_rows = (len(instances) - 1) // images_per_row + 1\n",
    "    row_images = []\n",
    "    n_empty = n_rows * images_per_row - len(instances)\n",
    "    images.append(np.zeros((size, size * n_empty)))\n",
    "    for row in range(n_rows):\n",
    "        rimages = images[row * images_per_row : (row + 1) * images_per_row]\n",
    "        row_images.append(np.concatenate(rimages, axis=1))\n",
    "    image = np.concatenate(row_images, axis=0)\n",
    "    plt.imshow(image,  cmap='gist_yarg', **options)\n",
    "    plt.axis(\"off\")"
   ]
  },
  {
   "cell_type": "code",
   "execution_count": 15,
   "metadata": {
    "scrolled": true
   },
   "outputs": [
    {
     "data": {
      "image/png": "[encoded data removed]",
      "text/plain": [
       "<Figure size 432x288 with 1 Axes>"
      ]
     },
     "metadata": {
      "needs_background": "light"
     },
     "output_type": "display_data"
    }
   ],
   "source": [
    "plot_digits((X_train[[0,1,2,3,4,5,6,7,8,9,10,11,12,13,14,15,16,17,18,19,20,21,22],:]))"
   ]
  },
  {
   "cell_type": "code",
   "execution_count": 16,
   "metadata": {
    "id": "zeEG-LGOM4fJ"
   },
   "outputs": [
    {
     "name": "stdout",
     "output_type": "stream",
     "text": [
      "[202, 157, 444, 254, 452, 389, 438, 175, 289, 636, 686, 565, 817, 616, 729, 984, 886, 607, 1272, 1320, 1466, 1450, 1089, 1364, 1387, 1343, 1247]\n"
     ]
    },
    {
     "data": {
      "text/plain": [
       "Text(0.5, 1.0, 'Original')"
      ]
     },
     "execution_count": 16,
     "metadata": {},
     "output_type": "execute_result"
    },
    {
     "data": {
      "image/png": "[encoded data removed]",
      "text/plain": [
       "<Figure size 576x576 with 1 Axes>"
      ]
     },
     "metadata": {
      "needs_background": "light"
     },
     "output_type": "display_data"
    }
   ],
   "source": [
    "# Show a few instances from each Digit:\n",
    "plt.figure(figsize=(8,8))\n",
    "\n",
    "# Selecting a few label indices from each of the 3 classes to show:\n",
    "n_sample = 9\n",
    "label_indices = []\n",
    "for i in range(n_classes):\n",
    "    label_indices += random.sample(range(i*inst_class, (i+1)*inst_class), n_sample)\n",
    "\n",
    "print(label_indices)\n",
    "# Plotting 'original' image\n",
    "plot_digits(X_train[label_indices,:],images_per_row=9)\n",
    "plt.title(\"Original\", fontsize=14)"
   ]
  },
  {
   "cell_type": "markdown",
   "metadata": {
    "id": "FsAOnOcNNG_V"
   },
   "source": [
    "###  Splitting the Training data into both Training and Validation Sets:\n",
    "\n",
    "- Although this is the Training set, we can still set aside some samples (for instance 20%) of the 1,500 instances we have for Model Validation purposes.\n",
    "\n",
    "\n",
    "- With that Validation Set, we can then select the amount of Uncertainty we are happy with from our Model to use out of sample on other unseen data.\n",
    "\n",
    "\n",
    "- We can then test out how well our decision performs on the Test Set that we put aside earlier."
   ]
  },
  {
   "cell_type": "code",
   "execution_count": 17,
   "metadata": {
    "id": "YdsmyVAtPXNn"
   },
   "outputs": [],
   "source": [
    "### Split tha dataset in training and validation sets\n",
    "# choose the fraction of your validation data from the training set\n",
    "w = 0.20\n",
    "X_train, X_val, y_train, y_val = train_test_split(X_train, y_train, test_size=w, random_state=0)\n",
    " \n",
    "# Shuffling the training instaces around to randomize the order of inputs to the model:\n",
    "X_train, y_train = shuffle(X_train, y_train)"
   ]
  },
  {
   "cell_type": "code",
   "execution_count": 18,
   "metadata": {
    "id": "qXwJwP0iPxhi"
   },
   "outputs": [
    {
     "name": "stdout",
     "output_type": "stream",
     "text": [
      "Training set shape = (1200, 784)\n",
      "Validation set shape = (300, 784)\n"
     ]
    }
   ],
   "source": [
    "# print shape of your validation and training set\n",
    "print(\"Training set shape =\", X_train.shape)\n",
    "print(\"Validation set shape =\", X_val.shape)"
   ]
  },
  {
   "cell_type": "markdown",
   "metadata": {
    "id": "aOroY1QoP8DY"
   },
   "source": [
    "### Encoding the Class labels for the Probabilistic ML Model:\n",
    "\n",
    "This is an example:\n",
    "\n",
    "- **[1,0,0]** for first digit\n",
    "- **[0,1,0]** for second digit\n",
    "- **[0,0,1]** for third digit"
   ]
  },
  {
   "cell_type": "markdown",
   "metadata": {
    "id": "rjUaqWTqQIcp"
   },
   "source": [
    "### General-Recipe ML"
   ]
  },
  {
   "cell_type": "code",
   "execution_count": 19,
   "metadata": {
    "id": "QzgdivxfQNv5"
   },
   "outputs": [
    {
     "data": {
      "text/plain": [
       "0.9633333333333334"
      ]
     },
     "execution_count": 19,
     "metadata": {},
     "output_type": "execute_result"
    }
   ],
   "source": [
    "# model\n",
    "model_log = LogisticRegression(random_state=0, max_iter=2000, C=100, solver='lbfgs', multi_class='multinomial').fit(X_train, y_train)\n",
    "\n",
    "# Classification:\n",
    "y_pred_log = model_log.predict(X_val)\n",
    "y_pred_logi_prob = model_log.predict_proba(X_val)\n",
    "\n",
    "# Maybe taking the maximum probability \n",
    "# in any of the classes for each observation\n",
    "prob_classmax = np.max(y_pred_logi_prob,axis=1)\n",
    "\n",
    "# Computing the Accuracy:\n",
    "accuracy_score(y_pred_log, y_val)"
   ]
  },
  {
   "cell_type": "markdown",
   "metadata": {
    "id": "3uQG6JsOQxH5"
   },
   "source": [
    "### Probabilistic Multinomial Logistic Regression:"
   ]
  },
  {
   "cell_type": "code",
   "execution_count": 20,
   "metadata": {
    "id": "W3jzczJzRAtT"
   },
   "outputs": [],
   "source": [
    "import sklearn.preprocessing\n",
    "## We use LabelBinarizer to transfor classes into counts\n",
    "# neg_label=0, pos_label=1 \n",
    "y_2_bin = sklearn.preprocessing.LabelBinarizer().fit_transform(y_train.reshape(-1,1))\n",
    "nf = X_train.shape[1]\n",
    "# number of classes\n",
    "nc = len(classes)\n",
    "# floatX = float32\n",
    "floatX = tt.config.floatX\n",
    "\n",
    "init_b = np.random.randn(nf, nc-1).astype(floatX)\n",
    "init_a = np.random.randn(nc-1).astype(floatX)\n",
    "\n",
    "\n",
    "with pm.Model() as multi_logistic:\n",
    "    # Prior\n",
    "    β = pm.Normal('beta', 0, sigma=100, shape=(nf, nc-1), testval=init_b)\n",
    "    α = pm.Normal('alpha', 0, sigma=100, shape=(nc-1,), testval=init_a)\n",
    "    \n",
    "    # we need to consider nc-1 features because the model is not identifiable\n",
    "    # the softmax turns a vector into a probability that sums up to one\n",
    "    # therefore we add zeros to go back to dimension nc\n",
    "    # so that softmax returns a vector of dimension nc\n",
    "    β1  = tt.tensor.concatenate([np.zeros((nf,1)),β ],axis=1)\n",
    "    α1  = tt.tensor.concatenate([[0],α ],)\n",
    "    \n",
    "    # Likelihood\n",
    "    mu = pm.math.matrix_dot(X_train,β1) + α1\n",
    "    # It doesn't work if the problem is binary\n",
    "    p = tt.tensor.nnet.nnet.softmax(mu)\n",
    "    observed = pm.Multinomial('likelihood', p=p, n=1, observed=y_2_bin)"
   ]
  },
  {
   "cell_type": "markdown",
   "metadata": {
    "id": "irlmUNw7Q5YL"
   },
   "source": [
    "The Multinomial Logistic Regression has some parameters:\n",
    "\n",
    "- $\\alpha$, which is the intercept term:\n",
    "\n",
    "- $\\beta$, which is a vector of coefficients which give a weighting to the importance of each input feature:\n"
   ]
  },
  {
   "cell_type": "code",
   "execution_count": 21,
   "metadata": {
    "id": "1o7mbKWmRhz5"
   },
   "outputs": [
    {
     "data": {
      "text/html": [
       "\n",
       "    <div>\n",
       "        <style>\n",
       "            /* Turns off some styling */\n",
       "            progress {\n",
       "                /* gets rid of default border in Firefox and Opera. */\n",
       "                border: none;\n",
       "                /* Needs to be in here for Safari polyfill so background images work as expected. */\n",
       "                background-size: auto;\n",
       "            }\n",
       "            .progress-bar-interrupted, .progress-bar-interrupted::-webkit-progress-bar {\n",
       "                background: #F44336;\n",
       "            }\n",
       "        </style>\n",
       "      <progress value='3000' class='' max='3000' style='width:300px; height:20px; vertical-align: middle;'></progress>\n",
       "      100.00% [3000/3000 00:03<00:00 Average Loss = 7,640.9]\n",
       "    </div>\n",
       "    "
      ],
      "text/plain": [
       "<IPython.core.display.HTML object>"
      ]
     },
     "metadata": {},
     "output_type": "display_data"
    },
    {
     "name": "stderr",
     "output_type": "stream",
     "text": [
      "Finished [100%]: Average Loss = 7,632.8\n"
     ]
    }
   ],
   "source": [
    "with multi_logistic:\n",
    "    #approx = pm.fit(300000, method='advi') # takes longer\n",
    "    approx = pm.fit(3000, method='advi')"
   ]
  },
  {
   "cell_type": "code",
   "execution_count": 22,
   "metadata": {
    "id": "aj6Uzc05Rhtr"
   },
   "outputs": [
    {
     "data": {
      "text/plain": [
       "[<matplotlib.lines.Line2D at 0x7f0dc2e5fe90>]"
      ]
     },
     "execution_count": 22,
     "metadata": {},
     "output_type": "execute_result"
    },
    {
     "data": {
      "image/png": "[encoded data removed]",
      "text/plain": [
       "<Figure size 432x288 with 1 Axes>"
      ]
     },
     "metadata": {
      "needs_background": "light"
     },
     "output_type": "display_data"
    }
   ],
   "source": [
    "plt.plot(approx.hist)"
   ]
  },
  {
   "cell_type": "code",
   "execution_count": 23,
   "metadata": {
    "id": "2MFH4gwlRhrB"
   },
   "outputs": [],
   "source": [
    "dd = 300\n",
    "posterior = approx.sample(draws=dd)"
   ]
  },
  {
   "cell_type": "code",
   "execution_count": 24,
   "metadata": {
    "id": "WNmJvYc4Rho7"
   },
   "outputs": [
    {
     "name": "stdout",
     "output_type": "stream",
     "text": [
      "test image #10\n",
      "posterior sample #100\n",
      "true class= 6.0\n",
      "classes: [1, 2, 6]\n",
      "estimated prob= [0.         0.00000509 0.99999491]\n"
     ]
    },
    {
     "data": {
      "image/png": "[encoded data removed]",
      "text/plain": [
       "<Figure size 144x144 with 1 Axes>"
      ]
     },
     "metadata": {
      "needs_background": "light"
     },
     "output_type": "display_data"
    }
   ],
   "source": [
    "## The softmax function transforms each element of a collection by computing the exponential\n",
    "#  of each element divided by the sum of the exponentials of all the elements.\n",
    "from scipy.special import softmax\n",
    "\n",
    "#select an image in the test set\n",
    "i = 10 \n",
    "#i = random.randint(0, dd)\n",
    "\n",
    "#select a sample in the posterior\n",
    "s = 100 \n",
    "#s = random.randint(0, dd)\n",
    "\n",
    "\n",
    "beta  = np.hstack([np.zeros((nf,1)),  posterior['beta'][s,:] ])\n",
    "alpha = np.hstack([[0],  posterior['alpha'][s,:] ])\n",
    "image = X_val[i,:].reshape(28,28)\n",
    "plt.figure(figsize=(2,2))\n",
    "plt.imshow(image,cmap=\"Greys_r\")\n",
    "np.set_printoptions(suppress=True)\n",
    "\n",
    "print(\"test image #\" + str(i))\n",
    "print(\"posterior sample #\" + str(s))\n",
    "print(\"true class=\", y_val[i])\n",
    "print(\"classes: \" + str(classes))\n",
    "print(\"estimated prob=\",softmax((np.array([X_val[i,:].dot(beta) + alpha])))[0,:])"
   ]
  },
  {
   "cell_type": "code",
   "execution_count": 25,
   "metadata": {
    "id": "XXh5GXJsRhmr"
   },
   "outputs": [],
   "source": [
    "# Bayesian prediction\n",
    "# return the class that has the highest posterior probability\n",
    "y_pred_Bayesian=[]\n",
    "\n",
    "for i in range(X_val.shape[0]):\n",
    "    val=np.zeros((1,len(classes)))\n",
    "    \n",
    "    for s in range(posterior['beta'].shape[0]):\n",
    "        beta = np.hstack([np.zeros((nf,1)),  posterior['beta'][s,:] ])\n",
    "        alpha = np.hstack([[0],  posterior['alpha'][s,:] ])     \n",
    "        val = val + softmax((np.array([X_val[i,:].dot(beta) + alpha])))\n",
    "    \n",
    "    mean_probability = val/posterior['beta'].shape[0]\n",
    "    y_pred_Bayesian.append( np.argmax(mean_probability))"
   ]
  },
  {
   "cell_type": "code",
   "execution_count": 26,
   "metadata": {},
   "outputs": [
    {
     "name": "stdout",
     "output_type": "stream",
     "text": [
      "[0, 0, 2, 0, 2, 2, 1, 0, 0, 2, 2, 2, 2, 0, 2, 1, 2, 2, 0, 2, 0, 1, 0, 0, 2, 1, 1, 1, 1, 2, 2, 0, 2, 1, 2, 2, 0, 1, 1, 0, 2, 2, 2, 1, 0, 1, 2, 1, 1, 2, 1, 2, 1, 2, 2, 2, 1, 1, 2, 2, 0, 0, 2, 0, 1, 1, 1, 1, 0, 2, 0, 0, 1, 2, 0, 1, 1, 0, 0, 2, 1, 0, 0, 0, 1, 0, 2, 0, 2, 0, 1, 1, 0, 0, 2, 2, 1, 0, 0, 1, 2, 2, 0, 1, 2, 0, 0, 0, 1, 2, 0, 0, 0, 0, 2, 1, 0, 2, 1, 1, 0, 1, 0, 1, 1, 1, 0, 0, 2, 1, 2, 1, 0, 2, 1, 1, 0, 0, 2, 1, 0, 1, 1, 2, 0, 0, 1, 0, 2, 0, 0, 2, 0, 1, 1, 1, 2, 0, 1, 1, 2, 1, 0, 2, 2, 1, 2, 2, 0, 0, 0, 1, 2, 0, 1, 0, 0, 2, 2, 1, 0, 0, 2, 0, 1, 0, 1, 0, 0, 1, 0, 2, 2, 0, 2, 0, 2, 0, 0, 0, 0, 0, 1, 0, 0, 0, 0, 0, 1, 1, 2, 1, 0, 2, 2, 0, 2, 1, 1, 2, 1, 0, 0, 1, 1, 0, 2, 2, 0, 0, 1, 2, 2, 1, 1, 1, 2, 2, 0, 2, 1, 0, 1, 2, 0, 2, 2, 1, 2, 0, 2, 1, 0, 1, 1, 2, 0, 2, 1, 2, 0, 1, 1, 0, 2, 1, 2, 1, 0, 2, 2, 2, 2, 2, 2, 1, 2, 0, 0, 2, 2, 2, 2, 1, 2, 1, 2, 1, 2, 0, 2, 1, 0, 1, 2, 0, 1, 1, 2, 0]\n"
     ]
    }
   ],
   "source": [
    "print(y_pred_Bayesian)"
   ]
  },
  {
   "cell_type": "code",
   "execution_count": 27,
   "metadata": {},
   "outputs": [
    {
     "name": "stdout",
     "output_type": "stream",
     "text": [
      "[1, 2, 6]\n"
     ]
    }
   ],
   "source": [
    "# recall the classes we are using\n",
    "print(classes)"
   ]
  },
  {
   "cell_type": "code",
   "execution_count": 28,
   "metadata": {},
   "outputs": [
    {
     "data": {
      "text/plain": [
       "array([1, 1, 6, 1, 6, 6, 2, 1, 1, 6])"
      ]
     },
     "execution_count": 28,
     "metadata": {},
     "output_type": "execute_result"
    }
   ],
   "source": [
    "# prediction array (using classes)\n",
    "nn = 10 # just an example\n",
    "np.array(classes)[y_pred_Bayesian[0:nn]]"
   ]
  },
  {
   "cell_type": "code",
   "execution_count": 29,
   "metadata": {},
   "outputs": [
    {
     "name": "stdout",
     "output_type": "stream",
     "text": [
      "Accuracy= 0.94\n"
     ]
    }
   ],
   "source": [
    "# using validation: y_val\n",
    "print(\"Accuracy=\", accuracy_score(np.array(classes)[y_pred_Bayesian], y_val))"
   ]
  },
  {
   "cell_type": "markdown",
   "metadata": {},
   "source": [
    "## Selecting different instances"
   ]
  },
  {
   "cell_type": "code",
   "execution_count": 30,
   "metadata": {},
   "outputs": [],
   "source": [
    "y_predB=[]\n",
    "\n",
    "for i in range(X_val.shape[0]):\n",
    "    #print(i)\n",
    "    val=[]\n",
    "\n",
    "    for s in range(posterior['beta'].shape[0]):\n",
    "        beta = np.hstack([np.zeros((nf,1)),  posterior['beta'][s,:] ])\n",
    "        alpha = np.hstack([[0],  posterior['alpha'][s,:] ])\n",
    "        val.append(softmax((np.array([X_val[i,:].dot(beta) + alpha])))[0,:])\n",
    "\n",
    "    #mean probability\n",
    "    valmean = np.mean(val,axis=0)\n",
    "    #class with maximum mean probability\n",
    "    classmax = np.argmax(valmean)\n",
    "    #ranks\n",
    "    ranks = np.array(val.copy())\n",
    "    ranks   = ranks  *0 #init\n",
    "    colmax = np.argmax(np.array(val),axis=1)\n",
    "    ranks[np.arange(0,len(colmax)),colmax]=1\n",
    "     \n",
    "    y_predB.append( [classmax, valmean[classmax], np.std(ranks,axis=0)[classmax]])\n",
    "\n",
    "    \n",
    "y_predB= np.array(y_predB)"
   ]
  },
  {
   "cell_type": "code",
   "execution_count": 31,
   "metadata": {},
   "outputs": [
    {
     "data": {
      "text/plain": [
       "array([[0.        , 0.94529302, 0.20360637],\n",
       "       [0.        , 0.97299969, 0.1280191 ],\n",
       "       [2.        , 0.9944559 , 0.05763872],\n",
       "       [0.        , 0.88682863, 0.28618176],\n",
       "       [2.        , 0.9642182 , 0.17058722],\n",
       "       [2.        , 0.95455604, 0.21092389],\n",
       "       [1.        , 0.74182844, 0.43679387],\n",
       "       [0.        , 0.57993465, 0.49408726],\n",
       "       [0.        , 0.88498961, 0.30439375],\n",
       "       [2.        , 0.95383002, 0.20360637]])"
      ]
     },
     "execution_count": 31,
     "metadata": {},
     "output_type": "execute_result"
    }
   ],
   "source": [
    "# prediction array\n",
    "mm = 10\n",
    "y_predB[0:mm,:]"
   ]
  },
  {
   "cell_type": "code",
   "execution_count": 32,
   "metadata": {},
   "outputs": [
    {
     "data": {
      "text/plain": [
       "array([[1.        , 0.5100135 , 0.5       ],\n",
       "       [1.        , 0.49953491, 0.5       ],\n",
       "       [2.        , 0.496844  , 0.49998889],\n",
       "       [1.        , 0.49387333, 0.49995555],\n",
       "       [0.        , 0.4986127 , 0.49989999],\n",
       "       [2.        , 0.5533184 , 0.49865374],\n",
       "       [1.        , 0.45837981, 0.49781746],\n",
       "       [2.        , 0.53687302, 0.49749372],\n",
       "       [0.        , 0.56023095, 0.49714742],\n",
       "       [2.        , 0.44421943, 0.49714742]])"
      ]
     },
     "execution_count": 32,
     "metadata": {},
     "output_type": "execute_result"
    }
   ],
   "source": [
    "#sorting in descending order\n",
    "difficult = np.argsort(-y_predB[:,2])\n",
    "y_predB[difficult[0:mm],:]"
   ]
  },
  {
   "cell_type": "code",
   "execution_count": 33,
   "metadata": {},
   "outputs": [
    {
     "data": {
      "text/plain": [
       "array([0.39419365, 0.9707622 , 0.99586211, 0.99828821, 0.72589997,\n",
       "       0.51672244, 0.99872428, 0.88551254, 0.99933051, 0.62924368,\n",
       "       0.95657807])"
      ]
     },
     "execution_count": 33,
     "metadata": {},
     "output_type": "execute_result"
    }
   ],
   "source": [
    "#probability of general-recipe logistic regression in wrong instances\n",
    "prob_classmax[y_pred_log != y_val]"
   ]
  },
  {
   "cell_type": "code",
   "execution_count": 34,
   "metadata": {},
   "outputs": [
    {
     "data": {
      "text/plain": [
       "array([[0.        , 0.57993465, 0.49408726],\n",
       "       [1.        , 0.63130839, 0.48368952],\n",
       "       [1.        , 0.6073386 , 0.4869862 ],\n",
       "       [1.        , 0.98051728, 0.1280191 ],\n",
       "       [1.        , 0.76388933, 0.42295258],\n",
       "       [2.        , 0.91993747, 0.26068286],\n",
       "       [2.        , 0.96261461, 0.17950549],\n",
       "       [1.        , 0.98498142, 0.09949874],\n",
       "       [2.        , 0.84249704, 0.35377331],\n",
       "       [1.        , 0.96161977, 0.17058722],\n",
       "       [1.        , 0.49387333, 0.49995555]])"
      ]
     },
     "execution_count": 34,
     "metadata": {},
     "output_type": "execute_result"
    }
   ],
   "source": [
    "y_predB[y_pred_log != y_val,:]"
   ]
  },
  {
   "cell_type": "code",
   "execution_count": 35,
   "metadata": {},
   "outputs": [
    {
     "name": "stdout",
     "output_type": "stream",
     "text": [
      "Accuracy in easy instances = 0.98\n",
      "Accuracy in difficult instances = 0.94\n"
     ]
    }
   ],
   "source": [
    "## Difficult & easy instances\n",
    "\n",
    "easy = np.argsort(y_predB[:,2])\n",
    "print(\"Accuracy in easy instances =\", accuracy_score(y_pred_log[easy[0:100]], y_val[easy[0:100]]))\n",
    "\n",
    "difficult = np.argsort(-y_predB[:,2])\n",
    "print(\"Accuracy in difficult instances =\", accuracy_score(y_pred_log[difficult[0:100]], y_val[difficult[0:100]]))"
   ]
  },
  {
   "cell_type": "code",
   "execution_count": 36,
   "metadata": {},
   "outputs": [
    {
     "data": {
      "image/png": "[encoded data removed]",
      "text/plain": [
       "<Figure size 1080x432 with 10 Axes>"
      ]
     },
     "metadata": {
      "needs_background": "light"
     },
     "output_type": "display_data"
    }
   ],
   "source": [
    "# show 10 random 'easy' images\n",
    "fig, axs = plt.subplots(2,5, figsize=(15, 6))\n",
    "fig.subplots_adjust(hspace = .2, wspace=.001)\n",
    "axs = axs.ravel()\n",
    "\n",
    "for i in range(10):\n",
    "    index = easy[i]\n",
    "    image = X_val[index,:].reshape(28,28)\n",
    "    axs[i].axis('off')\n",
    "    axs[i].imshow(image,cmap=\"Greys_r\")"
   ]
  },
  {
   "cell_type": "code",
   "execution_count": 37,
   "metadata": {},
   "outputs": [
    {
     "data": {
      "image/png": "[encoded data removed]",
      "text/plain": [
       "<Figure size 1080x432 with 10 Axes>"
      ]
     },
     "metadata": {
      "needs_background": "light"
     },
     "output_type": "display_data"
    }
   ],
   "source": [
    "# show 10 random 'difficult' images\n",
    "fig, axs = plt.subplots(2,5, figsize=(15, 6))\n",
    "fig.subplots_adjust(hspace = .2, wspace=.001)\n",
    "axs = axs.ravel()\n",
    "for i in range(10):\n",
    "    index = difficult[i]\n",
    "    image = X_val[index,:].reshape(28,28)\n",
    "    axs[i].axis('off')\n",
    "    axs[i].imshow(image,cmap=\"Greys_r\")"
   ]
  },
  {
   "cell_type": "markdown",
   "metadata": {
    "id": "NcshsLOGRPrk"
   },
   "source": [
    "## Summary"
   ]
  },
  {
   "cell_type": "markdown",
   "metadata": {
    "id": "XTc4pYKGRR60"
   },
   "source": [
    "Populate this section with all of your findings and comments fron the discussion with your peers."
   ]
  }
 ],
 "metadata": {
  "colab": {
   "name": "Etivity_1_template.ipynb",
   "provenance": []
  },
  "kernelspec": {
   "display_name": "Python 3",
   "language": "python",
   "name": "python3"
  },
  "language_info": {
   "codemirror_mode": {
    "name": "ipython",
    "version": 3
   },
   "file_extension": ".py",
   "mimetype": "text/x-python",
   "name": "python",
   "nbconvert_exporter": "python",
   "pygments_lexer": "ipython3",
   "version": "3.7.7"
  }
 },
 "nbformat": 4,
 "nbformat_minor": 1
}
