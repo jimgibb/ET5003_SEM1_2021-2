{
 "cells": [
  {
   "cell_type": "markdown",
   "metadata": {
    "id": "930vlW5BrOtq"
   },
   "source": [
    "<div>\n",
    "<img src=\"https://drive.google.com/uc?export=view&id=1vK33e_EqaHgBHcbRV_m38hx6IkG0blK_\" width=\"350\"/>\n",
    "</div> \n",
    "\n",
    "#**Artificial Intelligence - MSc**\n",
    "##ET5003 - MACHINE LEARNING APPLICATIONS \n",
    "\n",
    "###Instructor: Enrique Naredo\n",
    "###ET5003_KaggleCompetition"
   ]
  },
  {
   "cell_type": "code",
   "execution_count": 125,
   "metadata": {
    "cellView": "form",
    "id": "LqXD_IwUQuBF"
   },
   "outputs": [],
   "source": [
    "#@title Current Date\n",
    "Today = '2021-10-05' #@param {type:\"date\"}\n"
   ]
  },
  {
   "cell_type": "code",
   "execution_count": 126,
   "metadata": {
    "cellView": "form",
    "id": "uzDKau31OjVO"
   },
   "outputs": [
    {
     "data": {
      "text/plain": [
       "'Student_ID&Name = \"a\" #@param {type:\"string\"}\\nStudent_ID&Name = \"b\" #@param {type:\"string\"}\\nStudent_ID&Name = \"c\" #@param {type:\"string\"}\\nStudent_ID&Name = \"d\" #@param {type:\"string\"}\\nStudent_ID&Name = \"e\" #@param {type:\"string\"}'"
      ]
     },
     "execution_count": 126,
     "metadata": {},
     "output_type": "execute_result"
    }
   ],
   "source": [
    "#@markdown ---\n",
    "#@markdown ### Enter your details here:\n",
    "Team_Number = \"3\" #@param {type:\"string\"}\n",
    "\"\"\"Student_ID&Name = \"a\" #@param {type:\"string\"}\n",
    "Student_ID&Name = \"b\" #@param {type:\"string\"}\n",
    "Student_ID&Name = \"c\" #@param {type:\"string\"}\n",
    "Student_ID&Name = \"d\" #@param {type:\"string\"}\n",
    "Student_ID&Name = \"e\" #@param {type:\"string\"}\"\"\"\n",
    "#@markdown ---"
   ]
  },
  {
   "cell_type": "code",
   "execution_count": 127,
   "metadata": {
    "cellView": "form",
    "id": "r39xGZckTpKx"
   },
   "outputs": [],
   "source": [
    "#@title Notebook information\n",
    "Notebook_type = 'Etivity' #@param [\"Example\", \"Lab\", \"Practice\", \"Etivity\", \"Assignment\", \"Exam\"]\n",
    "Version = \"Draft\" #@param [\"Draft\", \"Final\"] {type:\"raw\"}\n",
    "Submission = False #@param {type:\"boolean\"}"
   ]
  },
  {
   "cell_type": "markdown",
   "metadata": {
    "id": "_A0Z6S-r6DpA"
   },
   "source": [
    "# INTRODUCTION"
   ]
  },
  {
   "cell_type": "markdown",
   "metadata": {
    "id": "d2vlkUAJ7Pz7"
   },
   "source": [
    "Your introduction here."
   ]
  },
  {
   "cell_type": "markdown",
   "metadata": {
    "id": "aajlS0WCJ8pm"
   },
   "source": [
    "***The goal is to use advanced Machine Learning methods to predict House price.***"
   ]
  },
  {
   "cell_type": "markdown",
   "metadata": {
    "id": "Wg7VCbX77eAA"
   },
   "source": [
    "## Imports"
   ]
  },
  {
   "cell_type": "code",
   "execution_count": 128,
   "metadata": {
    "id": "iFFLThrpwibd"
   },
   "outputs": [],
   "source": [
    "# Suppressing Warnings:\n",
    "import warnings\n",
    "warnings.filterwarnings(\"ignore\")"
   ]
  },
  {
   "cell_type": "code",
   "execution_count": 129,
   "metadata": {
    "id": "k96-GLUGE2ux"
   },
   "outputs": [],
   "source": [
    "# standard libraries\n",
    "import pandas as pd\n",
    "import numpy as np\n",
    "import matplotlib.pyplot as plt\n",
    "%matplotlib inline"
   ]
  },
  {
   "cell_type": "code",
   "execution_count": 130,
   "metadata": {
    "id": "sYPJU_Y6O6Dq"
   },
   "outputs": [],
   "source": [
    "# to plot\n",
    "import matplotlib.colors\n",
    "from mpl_toolkits.mplot3d import Axes3D\n",
    "import seaborn as sns\n",
    "\n",
    "# to generate classification, regression and clustering datasets\n",
    "import sklearn.datasets as dt\n",
    "\n",
    "# to create data frames\n",
    "from pandas import DataFrame\n",
    "\n",
    "# to generate data from an existing dataset\n",
    "from sklearn.neighbors import KernelDensity\n",
    "from sklearn.model_selection import GridSearchCV\n"
   ]
  },
  {
   "cell_type": "code",
   "execution_count": 131,
   "metadata": {
    "id": "mxMYIOx1FONV"
   },
   "outputs": [],
   "source": [
    "# Scikit-learn is an open source machine learning library \n",
    "# that supports supervised and unsupervised learning\n",
    "# https://scikit-learn.org/stable/\n",
    "from sklearn.model_selection import train_test_split\n",
    "from sklearn.feature_extraction.text import CountVectorizer\n",
    "from sklearn.naive_bayes import MultinomialNB\n",
    "from sklearn.metrics import accuracy_score, confusion_matrix"
   ]
  },
  {
   "cell_type": "code",
   "execution_count": 132,
   "metadata": {
    "id": "YLlFHWx4j7W6"
   },
   "outputs": [],
   "source": [
    "# Regular expression operations\n",
    "#https://docs.python.org/3/library/re.html\n",
    "import re \n",
    "\n",
    "# Natural Language Toolkit\n",
    "# https://www.nltk.org/install.html\n",
    "import nltk\n",
    "\n",
    "# Stemming maps different forms of the same word to a common “stem” \n",
    "# https://pypi.org/project/snowballstemmer/\n",
    "from nltk.stem import SnowballStemmer\n",
    "\n",
    "# https://www.nltk.org/book/ch02.html\n",
    "from nltk.corpus import stopwords\n",
    "\n",
    "# https://scikit-learn.org/stable/modules/generated/sklearn.preprocessing.StandardScaler.html\n",
    "from sklearn.preprocessing import StandardScaler\n",
    "from sklearn.preprocessing import RobustScaler"
   ]
  },
  {
   "cell_type": "code",
   "execution_count": 133,
   "metadata": {
    "colab": {
     "base_uri": "https://localhost:8080/"
    },
    "id": "5cfDHD9BXh0s",
    "outputId": "36b66e50-5a55-4f40-93bc-5e760eff3019"
   },
   "outputs": [
    {
     "name": "stdout",
     "output_type": "stream",
     "text": [
      "Requirement already satisfied: gpy in /home/jim/anaconda3/envs/ET5003/lib/python3.7/site-packages (1.10.0)\r\n",
      "Requirement already satisfied: scipy>=1.3.0 in /home/jim/anaconda3/envs/ET5003/lib/python3.7/site-packages (from gpy) (1.5.2)\r\n",
      "Requirement already satisfied: paramz>=0.9.0 in /home/jim/anaconda3/envs/ET5003/lib/python3.7/site-packages (from gpy) (0.9.5)\r\n",
      "Requirement already satisfied: numpy>=1.7 in /home/jim/anaconda3/envs/ET5003/lib/python3.7/site-packages (from gpy) (1.19.1)\r\n",
      "Requirement already satisfied: cython>=0.29 in /home/jim/anaconda3/envs/ET5003/lib/python3.7/site-packages (from gpy) (0.29.21)\r\n",
      "Requirement already satisfied: six in /home/jim/anaconda3/envs/ET5003/lib/python3.7/site-packages (from gpy) (1.15.0)\r\n",
      "Requirement already satisfied: decorator>=4.0.10 in /home/jim/anaconda3/envs/ET5003/lib/python3.7/site-packages (from paramz>=0.9.0->gpy) (4.4.2)\r\n"
     ]
    }
   ],
   "source": [
    "!pip install gpy"
   ]
  },
  {
   "cell_type": "code",
   "execution_count": 134,
   "metadata": {
    "id": "SwGh2bagw4kg"
   },
   "outputs": [],
   "source": [
    "import GPy as GPy\n",
    "import numpy as np\n",
    "import pylab as pb\n",
    "import pymc3 as pm\n",
    "import arviz as az"
   ]
  },
  {
   "cell_type": "code",
   "execution_count": 135,
   "metadata": {
    "id": "6MUJdlxSPSMM"
   },
   "outputs": [],
   "source": [
    "# Define the seed so that results can be reproduced\n",
    "seed = 11\n",
    "rand_state = 11\n",
    "\n",
    "# Define the color maps for plots\n",
    "color_map = plt.cm.get_cmap('RdYlBu')\n",
    "color_map_discrete = matplotlib.colors.LinearSegmentedColormap.from_list(\"\", [\"red\",\"cyan\",\"magenta\",\"blue\"])"
   ]
  },
  {
   "cell_type": "markdown",
   "metadata": {
    "id": "WL91ShB19RPw"
   },
   "source": [
    "# DATASET"
   ]
  },
  {
   "cell_type": "markdown",
   "metadata": {
    "id": "ESg5DGKWJSOf"
   },
   "source": [
    "Extract from this [paper](https://ieeexplore.ieee.org/document/9300074):\n",
    "\n",
    "* House prices are a significant impression of the economy, and its value ranges are of great concerns for the clients and property dealers. \n",
    "\n",
    "* Housing price escalate every year that eventually reinforced the need of strategy or technique that could predict house prices in future. \n",
    "\n",
    "* There are certain factors that influence house prices including physical conditions, locations, number of bedrooms and others.\n"
   ]
  },
  {
   "cell_type": "markdown",
   "metadata": {
    "id": "a8Y2pf50FlYL"
   },
   "source": [
    "1. [Download the dataset](https://github.com/UL-CS6134/CS6134_SEM1_2021-2/tree/main/Week-5). \n",
    "\n",
    "2. Upload the dataset into your folder.\n",
    "\n"
   ]
  },
  {
   "cell_type": "markdown",
   "metadata": {
    "id": "FMkdCQEmKTof"
   },
   "source": [
    "The challenge is to predict the final price of each house."
   ]
  },
  {
   "cell_type": "markdown",
   "metadata": {
    "id": "2PMoPLlUJ1Ly"
   },
   "source": [
    "## Exploratory Data Analysis"
   ]
  },
  {
   "cell_type": "markdown",
   "metadata": {
    "id": "ztBkSZluye87"
   },
   "source": [
    "### Train dataset"
   ]
  },
  {
   "cell_type": "code",
   "execution_count": 136,
   "metadata": {
    "id": "4rosmH4665uJ"
   },
   "outputs": [],
   "source": [
    "housePath = ''\n",
    "is_COLAB = 'google.colab' in str(get_ipython())\n",
    "if is_COLAB:\n",
    "    from google.colab import drive\n",
    "    drive.mount('/content/drive')\n",
    "    housePath = '/content/drive/MyDrive/Colab Notebooks/Data/house/'\n",
    "else:\n",
    "    housePath = './data/'"
   ]
  },
  {
   "cell_type": "code",
   "execution_count": 137,
   "metadata": {},
   "outputs": [],
   "source": [
    "# file names\n",
    "train_file_name = 'HousePrice_Train.csv'\n",
    "test_file_name = 'HousePrice_Test.csv'\n",
    "\n",
    "# training dataset: \n",
    "training_file = housePath + train_file_name\n",
    "\n",
    "# test dataset: \n",
    "testing_file = housePath + test_file_name"
   ]
  },
  {
   "cell_type": "code",
   "execution_count": 138,
   "metadata": {},
   "outputs": [
    {
     "data": {
      "text/html": [
       "<div>\n",
       "<style scoped>\n",
       "    .dataframe tbody tr th:only-of-type {\n",
       "        vertical-align: middle;\n",
       "    }\n",
       "\n",
       "    .dataframe tbody tr th {\n",
       "        vertical-align: top;\n",
       "    }\n",
       "\n",
       "    .dataframe thead th {\n",
       "        text-align: right;\n",
       "    }\n",
       "</style>\n",
       "<table border=\"1\" class=\"dataframe\">\n",
       "  <thead>\n",
       "    <tr style=\"text-align: right;\">\n",
       "      <th></th>\n",
       "      <th>Index</th>\n",
       "      <th>ID</th>\n",
       "      <th>Location</th>\n",
       "      <th>Num_Bathrooms</th>\n",
       "      <th>Num_Beds</th>\n",
       "      <th>BER_class</th>\n",
       "      <th>Description</th>\n",
       "      <th>Services</th>\n",
       "      <th>Features</th>\n",
       "      <th>Latitude</th>\n",
       "      <th>Longitude</th>\n",
       "      <th>Type</th>\n",
       "      <th>Surface</th>\n",
       "      <th>Price</th>\n",
       "    </tr>\n",
       "  </thead>\n",
       "  <tbody>\n",
       "    <tr>\n",
       "      <th>0</th>\n",
       "      <td>1</td>\n",
       "      <td>12409116</td>\n",
       "      <td>Ongar</td>\n",
       "      <td>2</td>\n",
       "      <td>2</td>\n",
       "      <td>C3</td>\n",
       "      <td>DNG are delighted to present to the market no....</td>\n",
       "      <td>NaN</td>\n",
       "      <td>None</td>\n",
       "      <td>53.396659</td>\n",
       "      <td>-6.438791</td>\n",
       "      <td>apartment</td>\n",
       "      <td>67.00</td>\n",
       "      <td>195000</td>\n",
       "    </tr>\n",
       "    <tr>\n",
       "      <th>1</th>\n",
       "      <td>2</td>\n",
       "      <td>12320330</td>\n",
       "      <td>North Strand</td>\n",
       "      <td>1</td>\n",
       "      <td>2</td>\n",
       "      <td>D1</td>\n",
       "      <td>13 Northbrook Terrace is a charming red brick ...</td>\n",
       "      <td>NaN</td>\n",
       "      <td>Bight and Spacious interior\\nNumerous original...</td>\n",
       "      <td>53.357129</td>\n",
       "      <td>-6.239779</td>\n",
       "      <td>terraced</td>\n",
       "      <td>95.97</td>\n",
       "      <td>425000</td>\n",
       "    </tr>\n",
       "    <tr>\n",
       "      <th>2</th>\n",
       "      <td>3</td>\n",
       "      <td>12405953</td>\n",
       "      <td>Stepaside</td>\n",
       "      <td>3</td>\n",
       "      <td>3</td>\n",
       "      <td>A3</td>\n",
       "      <td>Welcome to No. 6 Cotter Close, an immaculately...</td>\n",
       "      <td>NaN</td>\n",
       "      <td>Special Features\\nLarge rear garden\\nGenerous ...</td>\n",
       "      <td>53.266468</td>\n",
       "      <td>-6.222771</td>\n",
       "      <td>semi-detached</td>\n",
       "      <td>107.00</td>\n",
       "      <td>535000</td>\n",
       "    </tr>\n",
       "    <tr>\n",
       "      <th>3</th>\n",
       "      <td>4</td>\n",
       "      <td>12202582</td>\n",
       "      <td>Cabinteely</td>\n",
       "      <td>1</td>\n",
       "      <td>3</td>\n",
       "      <td>E1</td>\n",
       "      <td>Welcome to 3 Sycamore Walk!\\n\\r\\nEnjoying a pr...</td>\n",
       "      <td>NaN</td>\n",
       "      <td>Wonderful 3 bed detached bungalow.     \\nAccom...</td>\n",
       "      <td>53.261600</td>\n",
       "      <td>-6.166738</td>\n",
       "      <td>detached</td>\n",
       "      <td>81.00</td>\n",
       "      <td>499000</td>\n",
       "    </tr>\n",
       "    <tr>\n",
       "      <th>4</th>\n",
       "      <td>5</td>\n",
       "      <td>12299336</td>\n",
       "      <td>Lusk</td>\n",
       "      <td>3</td>\n",
       "      <td>4</td>\n",
       "      <td>D1</td>\n",
       "      <td>'Four Seasons' comes to the market as a wonder...</td>\n",
       "      <td>NaN</td>\n",
       "      <td>Detached Property      \\nDouble Glazed Windows...</td>\n",
       "      <td>53.550731</td>\n",
       "      <td>-6.121415</td>\n",
       "      <td>detached</td>\n",
       "      <td>153.00</td>\n",
       "      <td>510000</td>\n",
       "    </tr>\n",
       "  </tbody>\n",
       "</table>\n",
       "</div>"
      ],
      "text/plain": [
       "   Index        ID      Location  Num_Bathrooms  Num_Beds BER_class  \\\n",
       "0      1  12409116         Ongar              2         2        C3   \n",
       "1      2  12320330  North Strand              1         2        D1   \n",
       "2      3  12405953     Stepaside              3         3        A3   \n",
       "3      4  12202582    Cabinteely              1         3        E1   \n",
       "4      5  12299336          Lusk              3         4        D1   \n",
       "\n",
       "                                         Description Services  \\\n",
       "0  DNG are delighted to present to the market no....      NaN   \n",
       "1  13 Northbrook Terrace is a charming red brick ...      NaN   \n",
       "2  Welcome to No. 6 Cotter Close, an immaculately...      NaN   \n",
       "3  Welcome to 3 Sycamore Walk!\\n\\r\\nEnjoying a pr...      NaN   \n",
       "4  'Four Seasons' comes to the market as a wonder...      NaN   \n",
       "\n",
       "                                            Features   Latitude  Longitude  \\\n",
       "0                                               None  53.396659  -6.438791   \n",
       "1  Bight and Spacious interior\\nNumerous original...  53.357129  -6.239779   \n",
       "2  Special Features\\nLarge rear garden\\nGenerous ...  53.266468  -6.222771   \n",
       "3  Wonderful 3 bed detached bungalow.     \\nAccom...  53.261600  -6.166738   \n",
       "4  Detached Property      \\nDouble Glazed Windows...  53.550731  -6.121415   \n",
       "\n",
       "            Type  Surface   Price  \n",
       "0      apartment    67.00  195000  \n",
       "1       terraced    95.97  425000  \n",
       "2  semi-detached   107.00  535000  \n",
       "3       detached    81.00  499000  \n",
       "4       detached   153.00  510000  "
      ]
     },
     "execution_count": 138,
     "metadata": {},
     "output_type": "execute_result"
    }
   ],
   "source": [
    "# load train dataset\n",
    "df_train = pd.read_csv(training_file)\n",
    "df_train.head()"
   ]
  },
  {
   "cell_type": "code",
   "execution_count": 139,
   "metadata": {
    "id": "6XUFUPABMHfF"
   },
   "outputs": [
    {
     "data": {
      "text/html": [
       "<div>\n",
       "<style scoped>\n",
       "    .dataframe tbody tr th:only-of-type {\n",
       "        vertical-align: middle;\n",
       "    }\n",
       "\n",
       "    .dataframe tbody tr th {\n",
       "        vertical-align: top;\n",
       "    }\n",
       "\n",
       "    .dataframe thead th {\n",
       "        text-align: right;\n",
       "    }\n",
       "</style>\n",
       "<table border=\"1\" class=\"dataframe\">\n",
       "  <thead>\n",
       "    <tr style=\"text-align: right;\">\n",
       "      <th></th>\n",
       "      <th>Index</th>\n",
       "      <th>ID</th>\n",
       "      <th>Location</th>\n",
       "      <th>Num_Bathrooms</th>\n",
       "      <th>Num_Beds</th>\n",
       "      <th>BER_class</th>\n",
       "      <th>Description</th>\n",
       "      <th>Services</th>\n",
       "      <th>Features</th>\n",
       "      <th>Latitude</th>\n",
       "      <th>Longitude</th>\n",
       "      <th>Type</th>\n",
       "      <th>Surface</th>\n",
       "      <th>Price</th>\n",
       "    </tr>\n",
       "  </thead>\n",
       "  <tbody>\n",
       "    <tr>\n",
       "      <th>0</th>\n",
       "      <td>1</td>\n",
       "      <td>12409116</td>\n",
       "      <td>Ongar</td>\n",
       "      <td>2</td>\n",
       "      <td>2</td>\n",
       "      <td>C3</td>\n",
       "      <td>DNG are delighted to present to the market no....</td>\n",
       "      <td>NaN</td>\n",
       "      <td>None</td>\n",
       "      <td>53.396659</td>\n",
       "      <td>-6.438791</td>\n",
       "      <td>apartment</td>\n",
       "      <td>67.00</td>\n",
       "      <td>195000</td>\n",
       "    </tr>\n",
       "    <tr>\n",
       "      <th>1</th>\n",
       "      <td>2</td>\n",
       "      <td>12320330</td>\n",
       "      <td>North Strand</td>\n",
       "      <td>1</td>\n",
       "      <td>2</td>\n",
       "      <td>D1</td>\n",
       "      <td>13 Northbrook Terrace is a charming red brick ...</td>\n",
       "      <td>NaN</td>\n",
       "      <td>Bight and Spacious interior\\nNumerous original...</td>\n",
       "      <td>53.357129</td>\n",
       "      <td>-6.239779</td>\n",
       "      <td>terraced</td>\n",
       "      <td>95.97</td>\n",
       "      <td>425000</td>\n",
       "    </tr>\n",
       "    <tr>\n",
       "      <th>2</th>\n",
       "      <td>3</td>\n",
       "      <td>12405953</td>\n",
       "      <td>Stepaside</td>\n",
       "      <td>3</td>\n",
       "      <td>3</td>\n",
       "      <td>A3</td>\n",
       "      <td>Welcome to No. 6 Cotter Close, an immaculately...</td>\n",
       "      <td>NaN</td>\n",
       "      <td>Special Features\\nLarge rear garden\\nGenerous ...</td>\n",
       "      <td>53.266468</td>\n",
       "      <td>-6.222771</td>\n",
       "      <td>semi-detached</td>\n",
       "      <td>107.00</td>\n",
       "      <td>535000</td>\n",
       "    </tr>\n",
       "    <tr>\n",
       "      <th>3</th>\n",
       "      <td>4</td>\n",
       "      <td>12202582</td>\n",
       "      <td>Cabinteely</td>\n",
       "      <td>1</td>\n",
       "      <td>3</td>\n",
       "      <td>E1</td>\n",
       "      <td>Welcome to 3 Sycamore Walk!\\n\\r\\nEnjoying a pr...</td>\n",
       "      <td>NaN</td>\n",
       "      <td>Wonderful 3 bed detached bungalow.     \\nAccom...</td>\n",
       "      <td>53.261600</td>\n",
       "      <td>-6.166738</td>\n",
       "      <td>detached</td>\n",
       "      <td>81.00</td>\n",
       "      <td>499000</td>\n",
       "    </tr>\n",
       "    <tr>\n",
       "      <th>4</th>\n",
       "      <td>5</td>\n",
       "      <td>12299336</td>\n",
       "      <td>Lusk</td>\n",
       "      <td>3</td>\n",
       "      <td>4</td>\n",
       "      <td>D1</td>\n",
       "      <td>'Four Seasons' comes to the market as a wonder...</td>\n",
       "      <td>NaN</td>\n",
       "      <td>Detached Property      \\nDouble Glazed Windows...</td>\n",
       "      <td>53.550731</td>\n",
       "      <td>-6.121415</td>\n",
       "      <td>detached</td>\n",
       "      <td>153.00</td>\n",
       "      <td>510000</td>\n",
       "    </tr>\n",
       "  </tbody>\n",
       "</table>\n",
       "</div>"
      ],
      "text/plain": [
       "   Index        ID      Location  Num_Bathrooms  Num_Beds BER_class  \\\n",
       "0      1  12409116         Ongar              2         2        C3   \n",
       "1      2  12320330  North Strand              1         2        D1   \n",
       "2      3  12405953     Stepaside              3         3        A3   \n",
       "3      4  12202582    Cabinteely              1         3        E1   \n",
       "4      5  12299336          Lusk              3         4        D1   \n",
       "\n",
       "                                         Description Services  \\\n",
       "0  DNG are delighted to present to the market no....      NaN   \n",
       "1  13 Northbrook Terrace is a charming red brick ...      NaN   \n",
       "2  Welcome to No. 6 Cotter Close, an immaculately...      NaN   \n",
       "3  Welcome to 3 Sycamore Walk!\\n\\r\\nEnjoying a pr...      NaN   \n",
       "4  'Four Seasons' comes to the market as a wonder...      NaN   \n",
       "\n",
       "                                            Features   Latitude  Longitude  \\\n",
       "0                                               None  53.396659  -6.438791   \n",
       "1  Bight and Spacious interior\\nNumerous original...  53.357129  -6.239779   \n",
       "2  Special Features\\nLarge rear garden\\nGenerous ...  53.266468  -6.222771   \n",
       "3  Wonderful 3 bed detached bungalow.     \\nAccom...  53.261600  -6.166738   \n",
       "4  Detached Property      \\nDouble Glazed Windows...  53.550731  -6.121415   \n",
       "\n",
       "            Type  Surface   Price  \n",
       "0      apartment    67.00  195000  \n",
       "1       terraced    95.97  425000  \n",
       "2  semi-detached   107.00  535000  \n",
       "3       detached    81.00  499000  \n",
       "4       detached   153.00  510000  "
      ]
     },
     "execution_count": 139,
     "metadata": {},
     "output_type": "execute_result"
    }
   ],
   "source": [
    "# show first data frame rows \n",
    "df_train.head()"
   ]
  },
  {
   "cell_type": "code",
   "execution_count": 140,
   "metadata": {
    "id": "5rq_p-D4yLBe"
   },
   "outputs": [
    {
     "data": {
      "text/html": [
       "<div>\n",
       "<style scoped>\n",
       "    .dataframe tbody tr th:only-of-type {\n",
       "        vertical-align: middle;\n",
       "    }\n",
       "\n",
       "    .dataframe tbody tr th {\n",
       "        vertical-align: top;\n",
       "    }\n",
       "\n",
       "    .dataframe thead th {\n",
       "        text-align: right;\n",
       "    }\n",
       "</style>\n",
       "<table border=\"1\" class=\"dataframe\">\n",
       "  <thead>\n",
       "    <tr style=\"text-align: right;\">\n",
       "      <th></th>\n",
       "      <th>Index</th>\n",
       "      <th>ID</th>\n",
       "      <th>Num_Bathrooms</th>\n",
       "      <th>Num_Beds</th>\n",
       "      <th>Latitude</th>\n",
       "      <th>Longitude</th>\n",
       "      <th>Surface</th>\n",
       "      <th>Price</th>\n",
       "    </tr>\n",
       "  </thead>\n",
       "  <tbody>\n",
       "    <tr>\n",
       "      <th>count</th>\n",
       "      <td>1638.000000</td>\n",
       "      <td>1.638000e+03</td>\n",
       "      <td>1638.000000</td>\n",
       "      <td>1638.000000</td>\n",
       "      <td>1638.000000</td>\n",
       "      <td>1638.000000</td>\n",
       "      <td>1638.000000</td>\n",
       "      <td>1.638000e+03</td>\n",
       "    </tr>\n",
       "    <tr>\n",
       "      <th>mean</th>\n",
       "      <td>819.500000</td>\n",
       "      <td>1.231930e+07</td>\n",
       "      <td>2.054335</td>\n",
       "      <td>3.043346</td>\n",
       "      <td>53.350473</td>\n",
       "      <td>-6.255086</td>\n",
       "      <td>169.540695</td>\n",
       "      <td>5.547196e+05</td>\n",
       "    </tr>\n",
       "    <tr>\n",
       "      <th>std</th>\n",
       "      <td>472.994186</td>\n",
       "      <td>1.447540e+05</td>\n",
       "      <td>1.241259</td>\n",
       "      <td>1.379650</td>\n",
       "      <td>0.076832</td>\n",
       "      <td>0.144430</td>\n",
       "      <td>1791.793934</td>\n",
       "      <td>5.652032e+05</td>\n",
       "    </tr>\n",
       "    <tr>\n",
       "      <th>min</th>\n",
       "      <td>1.000000</td>\n",
       "      <td>1.118567e+07</td>\n",
       "      <td>1.000000</td>\n",
       "      <td>1.000000</td>\n",
       "      <td>52.501856</td>\n",
       "      <td>-6.497000</td>\n",
       "      <td>3.400000</td>\n",
       "      <td>1.999500e+04</td>\n",
       "    </tr>\n",
       "    <tr>\n",
       "      <th>25%</th>\n",
       "      <td>410.250000</td>\n",
       "      <td>1.228104e+07</td>\n",
       "      <td>1.000000</td>\n",
       "      <td>2.000000</td>\n",
       "      <td>53.294261</td>\n",
       "      <td>-6.309613</td>\n",
       "      <td>73.000000</td>\n",
       "      <td>2.950000e+05</td>\n",
       "    </tr>\n",
       "    <tr>\n",
       "      <th>50%</th>\n",
       "      <td>819.500000</td>\n",
       "      <td>1.238055e+07</td>\n",
       "      <td>2.000000</td>\n",
       "      <td>3.000000</td>\n",
       "      <td>53.341386</td>\n",
       "      <td>-6.247780</td>\n",
       "      <td>97.050000</td>\n",
       "      <td>3.950000e+05</td>\n",
       "    </tr>\n",
       "    <tr>\n",
       "      <th>75%</th>\n",
       "      <td>1228.750000</td>\n",
       "      <td>1.240548e+07</td>\n",
       "      <td>3.000000</td>\n",
       "      <td>4.000000</td>\n",
       "      <td>53.382031</td>\n",
       "      <td>-6.193982</td>\n",
       "      <td>135.000000</td>\n",
       "      <td>5.950000e+05</td>\n",
       "    </tr>\n",
       "    <tr>\n",
       "      <th>max</th>\n",
       "      <td>1638.000000</td>\n",
       "      <td>1.242836e+07</td>\n",
       "      <td>18.000000</td>\n",
       "      <td>27.000000</td>\n",
       "      <td>53.630588</td>\n",
       "      <td>-1.744995</td>\n",
       "      <td>72236.387140</td>\n",
       "      <td>8.900000e+06</td>\n",
       "    </tr>\n",
       "  </tbody>\n",
       "</table>\n",
       "</div>"
      ],
      "text/plain": [
       "             Index            ID  Num_Bathrooms     Num_Beds     Latitude  \\\n",
       "count  1638.000000  1.638000e+03    1638.000000  1638.000000  1638.000000   \n",
       "mean    819.500000  1.231930e+07       2.054335     3.043346    53.350473   \n",
       "std     472.994186  1.447540e+05       1.241259     1.379650     0.076832   \n",
       "min       1.000000  1.118567e+07       1.000000     1.000000    52.501856   \n",
       "25%     410.250000  1.228104e+07       1.000000     2.000000    53.294261   \n",
       "50%     819.500000  1.238055e+07       2.000000     3.000000    53.341386   \n",
       "75%    1228.750000  1.240548e+07       3.000000     4.000000    53.382031   \n",
       "max    1638.000000  1.242836e+07      18.000000    27.000000    53.630588   \n",
       "\n",
       "         Longitude       Surface         Price  \n",
       "count  1638.000000   1638.000000  1.638000e+03  \n",
       "mean     -6.255086    169.540695  5.547196e+05  \n",
       "std       0.144430   1791.793934  5.652032e+05  \n",
       "min      -6.497000      3.400000  1.999500e+04  \n",
       "25%      -6.309613     73.000000  2.950000e+05  \n",
       "50%      -6.247780     97.050000  3.950000e+05  \n",
       "75%      -6.193982    135.000000  5.950000e+05  \n",
       "max      -1.744995  72236.387140  8.900000e+06  "
      ]
     },
     "execution_count": 140,
     "metadata": {},
     "output_type": "execute_result"
    }
   ],
   "source": [
    "# Generate descriptive statistics\n",
    "df_train.describe()"
   ]
  },
  {
   "cell_type": "markdown",
   "metadata": {},
   "source": [
    "Reviewing the training dataset we can immediately see points of note which require inspection:  \n",
    "- The maximum longitude of -1.7 degrees is outside of Ireland.\n",
    "- The maximum number of beds and bathrooms, 27 and 18, are not likely to belong to houses.  \n",
    "- The maximum surface area is over 400 times the size of the mean."
   ]
  },
  {
   "cell_type": "markdown",
   "metadata": {},
   "source": [
    "We remove the **id** and **index** columns before performing further inspection."
   ]
  },
  {
   "cell_type": "code",
   "execution_count": 141,
   "metadata": {},
   "outputs": [],
   "source": [
    "df_train.drop(['ID', 'Index'], axis=1, inplace=True)"
   ]
  },
  {
   "cell_type": "markdown",
   "metadata": {},
   "source": [
    "We view categorical variables."
   ]
  },
  {
   "cell_type": "code",
   "execution_count": 142,
   "metadata": {},
   "outputs": [
    {
     "name": "stdout",
     "output_type": "stream",
     "text": [
      "Categorical variables: ['Features', 'Services', 'Description', 'Type', 'Location', 'BER_class']\n"
     ]
    }
   ],
   "source": [
    "# Gathering categorical variables although not a guaranteed manner to do it given variables could be numerically encoded. \n",
    "numeric_attr = df_train._get_numeric_data().columns\n",
    "all_attr = df_train.columns\n",
    "categ_var = list(set(all_attr) - set(numeric_attr))\n",
    "print(f\"Categorical variables: {categ_var}\")"
   ]
  },
  {
   "cell_type": "code",
   "execution_count": 143,
   "metadata": {},
   "outputs": [],
   "source": [
    "# View detail of the categorical attributes without the text blocks Description and Features\n",
    "categ_var.remove('Description')\n",
    "categ_var.remove('Features')"
   ]
  },
  {
   "cell_type": "code",
   "execution_count": 144,
   "metadata": {},
   "outputs": [
    {
     "name": "stdout",
     "output_type": "stream",
     "text": [
      "-- Attribute: Services:\n",
      "Parking,Gas Fired Central Heating                                                               118\n",
      "Parking                                                                                          77\n",
      "Parking,Gas Fired Central Heating,Wired for Cable Television                                     74\n",
      "Parking,Gas Fired Central Heating,Alarm,Wired for Cable Television                               62\n",
      "Parking,Gas Fired Central Heating,Alarm                                                          57\n",
      "Parking,Wired for Cable Television                                                               35\n",
      "Gas Fired Central Heating                                                                        25\n",
      "Parking,Oil Fired Central Heating                                                                12\n",
      "Parking,Alarm                                                                                    12\n",
      "Parking,Gas Fired Central Heating,Alarm,Wired for Cable Television,Wheelchair Access             12\n",
      "Parking,Alarm,Wired for Cable Television,Oil Fired Central Heating                               10\n",
      "Parking,Wired for Cable Television,Oil Fired Central Heating                                      8\n",
      "Parking,Alarm,Wired for Cable Television                                                          8\n",
      "Wired for Cable Television                                                                        7\n",
      "Alarm                                                                                             7\n",
      "Parking,Alarm,Oil Fired Central Heating                                                           7\n",
      "Parking,Gas Fired Central Heating,Wired for Cable Television,Wheelchair Access                    6\n",
      "Gas Fired Central Heating,Alarm                                                                   6\n",
      "Gas Fired Central Heating,Alarm,Wired for Cable Television                                        5\n",
      "Parking,Gas Fired Central Heating,Wheelchair Access                                               5\n",
      "Gas Fired Central Heating,Wired for Cable Television                                              5\n",
      "Parking,Wired for Cable Television,Wheelchair Access                                              4\n",
      "Alarm,Wired for Cable Television                                                                  3\n",
      "Parking,Alarm,Wired for Cable Television,Wheelchair Access                                        2\n",
      "Parking,Gas Fired Central Heating,Alarm,Wheelchair Access                                         2\n",
      "Oil Fired Central Heating                                                                         2\n",
      "Parking,Wired for Cable Television,Wheelchair Access,Oil Fired Central Heating                    2\n",
      "Alarm,Oil Fired Central Heating                                                                   1\n",
      "Gas Fired Central Heating,Alarm,Wired for Cable Television,Wheelchair Access                      1\n",
      "Parking,Gas Fired Central Heating,Alarm,Wired for Cable Television,Oil Fired Central Heating      1\n",
      "Parking,Wheelchair Access                                                                         1\n",
      "Name: Services, dtype: int64\n",
      "\n",
      "-- Attribute: Type:\n",
      "semi-detached     458\n",
      "apartment         431\n",
      "terraced          299\n",
      "detached          234\n",
      "end-of-terrace    118\n",
      "bungalow           48\n",
      "duplex             33\n",
      "townhouse          14\n",
      "studio              2\n",
      "site                1\n",
      "Name: Type, dtype: int64\n",
      "\n",
      "-- Attribute: Location:\n",
      "Castleknock            57\n",
      "Malahide               50\n",
      "Lucan                  49\n",
      "Rathfarnham            46\n",
      "Clondalkin             41\n",
      "                       ..\n",
      "Kingswood               1\n",
      "Windy Arbour            1\n",
      "Smithfield              1\n",
      "South Circular Road     1\n",
      "Coolmine                1\n",
      "Name: Location, Length: 142, dtype: int64\n",
      "\n",
      "-- Attribute: BER_class:\n",
      "D1                     182\n",
      "D2                     173\n",
      "C3                     154\n",
      "C2                     144\n",
      "C1                     133\n",
      "E1                     110\n",
      "G                      103\n",
      "E2                     101\n",
      "F                       89\n",
      "B3                      78\n",
      "B2                      48\n",
      "A3                      37\n",
      "SINo666of2006exempt     15\n",
      "A2                      12\n",
      "B1                       7\n",
      "A1                       1\n",
      "Name: BER_class, dtype: int64\n",
      "\n"
     ]
    }
   ],
   "source": [
    "for cat_var in categ_var:\n",
    "    print(f\"-- Attribute: {cat_var}:\\n{df_train[cat_var].value_counts()}\\n\")"
   ]
  },
  {
   "cell_type": "markdown",
   "metadata": {},
   "source": [
    "We look for missing data"
   ]
  },
  {
   "cell_type": "code",
   "execution_count": 145,
   "metadata": {},
   "outputs": [
    {
     "data": {
      "text/plain": [
       "Location            0\n",
       "Num_Bathrooms       0\n",
       "Num_Beds            0\n",
       "BER_class         251\n",
       "Description         0\n",
       "Services         1061\n",
       "Features            0\n",
       "Latitude            0\n",
       "Longitude           0\n",
       "Type                0\n",
       "Surface             0\n",
       "Price               0\n",
       "dtype: int64"
      ]
     },
     "execution_count": 145,
     "metadata": {},
     "output_type": "execute_result"
    }
   ],
   "source": [
    "# Check for number of missing values in original data prior to any transform\n",
    "df_train.isna().sum()"
   ]
  },
  {
   "cell_type": "code",
   "execution_count": 146,
   "metadata": {},
   "outputs": [
    {
     "data": {
      "text/plain": [
       "Location          0.000000\n",
       "Num_Bathrooms     0.000000\n",
       "Num_Beds          0.000000\n",
       "BER_class        15.323565\n",
       "Description       0.000000\n",
       "Services         64.774115\n",
       "Features          0.000000\n",
       "Latitude          0.000000\n",
       "Longitude         0.000000\n",
       "Type              0.000000\n",
       "Surface           0.000000\n",
       "Price             0.000000\n",
       "dtype: float64"
      ]
     },
     "execution_count": 146,
     "metadata": {},
     "output_type": "execute_result"
    }
   ],
   "source": [
    "# Show percentage of missing values\n",
    "df_train.isna().sum() * 100 / len(df_train)"
   ]
  },
  {
   "cell_type": "markdown",
   "metadata": {},
   "source": [
    "As **Services** is missing 64% of entries it is unlikely to be reliable in telling us much for our dataset. We will remove it. **BER_class** is missing 15% which we will replace with the mode."
   ]
  },
  {
   "cell_type": "code",
   "execution_count": 147,
   "metadata": {},
   "outputs": [],
   "source": [
    "df_train.drop(['Services'], axis=1, inplace=True)\n",
    "\n",
    "BER_mode = df_train.BER_class.mode()[0]\n",
    "df_train.BER_class.replace(0, BER_mode, inplace=True)"
   ]
  },
  {
   "cell_type": "markdown",
   "metadata": {},
   "source": [
    "We look at boxplots for outliers:"
   ]
  },
  {
   "cell_type": "code",
   "execution_count": 148,
   "metadata": {},
   "outputs": [],
   "source": [
    "def plot_multiple_boxplots(dataframe: pd.DataFrame=None, feature_list: list=None) -> None:\n",
    "    \"\"\"Plot multiple boxplots for features in a list\n",
    "    \n",
    "    Args:\n",
    "        dataframe: DataFrame from which to pull features provided in feature_list\n",
    "        feature_list: list, contains string names of features to plot\n",
    "    Returns:\n",
    "        None\n",
    "    \"\"\"\n",
    "    fig, axes = plt.subplots(1, len(feature_list))\n",
    "    for i, col in enumerate(feature_list):\n",
    "        ax = sns.boxplot(y=dataframe[col], ax=axes.flatten()[i])\n",
    "        ax.set_ylim(dataframe[col].min(), dataframe[col].max())\n",
    "        ax.set_ylabel(col)\n",
    "    fig.set_size_inches(16, 4)\n",
    "    plt.show()"
   ]
  },
  {
   "cell_type": "code",
   "execution_count": 149,
   "metadata": {},
   "outputs": [
    {
     "name": "stdout",
     "output_type": "stream",
     "text": [
      "Numeric variables: Index(['Num_Bathrooms', 'Num_Beds', 'Latitude', 'Longitude', 'Surface',\n",
      "       'Price'],\n",
      "      dtype='object')\n"
     ]
    },
    {
     "data": {
      "image/png": "[encoded data removed]",
      "text/plain": [
       "<Figure size 1152x288 with 3 Axes>"
      ]
     },
     "metadata": {
      "needs_background": "light"
     },
     "output_type": "display_data"
    },
    {
     "data": {
      "image/png": "[encoded data removed]",
      "text/plain": [
       "<Figure size 1152x288 with 3 Axes>"
      ]
     },
     "metadata": {
      "needs_background": "light"
     },
     "output_type": "display_data"
    }
   ],
   "source": [
    "# Select numeric datatypes\\\n",
    "numeric_attr = df_train.select_dtypes(np.number).columns\n",
    "print(f\"Numeric variables: {numeric_attr}\")\n",
    "\n",
    "plot_multiple_boxplots(dataframe=df_train, feature_list=numeric_attr[:3])\n",
    "plot_multiple_boxplots(dataframe=df_train, feature_list=numeric_attr[3:])"
   ]
  },
  {
   "cell_type": "markdown",
   "metadata": {},
   "source": [
    "We observe that there are very large outliers in **surface**, **Num_Bathrooms**, **Num_Beds** and **Price**.\n",
    "We'll revivew each in turn. "
   ]
  },
  {
   "cell_type": "code",
   "execution_count": 150,
   "metadata": {},
   "outputs": [
    {
     "data": {
      "text/html": [
       "<div>\n",
       "<style scoped>\n",
       "    .dataframe tbody tr th:only-of-type {\n",
       "        vertical-align: middle;\n",
       "    }\n",
       "\n",
       "    .dataframe tbody tr th {\n",
       "        vertical-align: top;\n",
       "    }\n",
       "\n",
       "    .dataframe thead th {\n",
       "        text-align: right;\n",
       "    }\n",
       "</style>\n",
       "<table border=\"1\" class=\"dataframe\">\n",
       "  <thead>\n",
       "    <tr style=\"text-align: right;\">\n",
       "      <th></th>\n",
       "      <th>Location</th>\n",
       "      <th>Num_Bathrooms</th>\n",
       "      <th>Num_Beds</th>\n",
       "      <th>BER_class</th>\n",
       "      <th>Description</th>\n",
       "      <th>Features</th>\n",
       "      <th>Latitude</th>\n",
       "      <th>Longitude</th>\n",
       "      <th>Type</th>\n",
       "      <th>Surface</th>\n",
       "      <th>Price</th>\n",
       "    </tr>\n",
       "  </thead>\n",
       "  <tbody>\n",
       "    <tr>\n",
       "      <th>557</th>\n",
       "      <td>Inchicore</td>\n",
       "      <td>15</td>\n",
       "      <td>15</td>\n",
       "      <td>D1</td>\n",
       "      <td>umber 67 &amp;amp; 69 Jamestown Road represent a f...</td>\n",
       "      <td>18 separate units\\nTransport links including t...</td>\n",
       "      <td>53.335109</td>\n",
       "      <td>-6.331515</td>\n",
       "      <td>semi-detached</td>\n",
       "      <td>318.2</td>\n",
       "      <td>775000</td>\n",
       "    </tr>\n",
       "    <tr>\n",
       "      <th>1099</th>\n",
       "      <td>Dun Laoghaire</td>\n",
       "      <td>15</td>\n",
       "      <td>15</td>\n",
       "      <td>NaN</td>\n",
       "      <td>A truly unique stone built house of great qual...</td>\n",
       "      <td>Lift servicing all floors\\nVenetian and gothic...</td>\n",
       "      <td>53.287504</td>\n",
       "      <td>-6.146605</td>\n",
       "      <td>detached</td>\n",
       "      <td>700.0</td>\n",
       "      <td>1500000</td>\n",
       "    </tr>\n",
       "    <tr>\n",
       "      <th>1378</th>\n",
       "      <td>Killiney</td>\n",
       "      <td>18</td>\n",
       "      <td>27</td>\n",
       "      <td>NaN</td>\n",
       "      <td>The Grove is an imposing Victorian mansion bui...</td>\n",
       "      <td>Approx. 1 490 sq. m / 16 041 sq. ft. of accomm...</td>\n",
       "      <td>53.260955</td>\n",
       "      <td>-6.117266</td>\n",
       "      <td>detached</td>\n",
       "      <td>1490.0</td>\n",
       "      <td>4500000</td>\n",
       "    </tr>\n",
       "  </tbody>\n",
       "</table>\n",
       "</div>"
      ],
      "text/plain": [
       "           Location  Num_Bathrooms  Num_Beds BER_class  \\\n",
       "557       Inchicore             15        15        D1   \n",
       "1099  Dun Laoghaire             15        15       NaN   \n",
       "1378       Killiney             18        27       NaN   \n",
       "\n",
       "                                            Description  \\\n",
       "557   umber 67 &amp; 69 Jamestown Road represent a f...   \n",
       "1099  A truly unique stone built house of great qual...   \n",
       "1378  The Grove is an imposing Victorian mansion bui...   \n",
       "\n",
       "                                               Features   Latitude  Longitude  \\\n",
       "557   18 separate units\\nTransport links including t...  53.335109  -6.331515   \n",
       "1099  Lift servicing all floors\\nVenetian and gothic...  53.287504  -6.146605   \n",
       "1378  Approx. 1 490 sq. m / 16 041 sq. ft. of accomm...  53.260955  -6.117266   \n",
       "\n",
       "               Type  Surface    Price  \n",
       "557   semi-detached    318.2   775000  \n",
       "1099       detached    700.0  1500000  \n",
       "1378       detached   1490.0  4500000  "
      ]
     },
     "execution_count": 150,
     "metadata": {},
     "output_type": "execute_result"
    }
   ],
   "source": [
    "df_train.loc[df_train.Num_Bathrooms>12]"
   ]
  },
  {
   "cell_type": "markdown",
   "metadata": {},
   "source": [
    "The buildings with more than 12 bathrooms are the outliers in terms of bedrooms but are not the largest outliers in terms of price or surface. It is possible we could drop these without adversely affecting the model."
   ]
  },
  {
   "cell_type": "code",
   "execution_count": 151,
   "metadata": {},
   "outputs": [],
   "source": [
    "df_train.drop(df_train.loc[df_train.Num_Bathrooms>12].index, inplace=True)"
   ]
  },
  {
   "cell_type": "code",
   "execution_count": 152,
   "metadata": {},
   "outputs": [
    {
     "data": {
      "text/html": [
       "<div>\n",
       "<style scoped>\n",
       "    .dataframe tbody tr th:only-of-type {\n",
       "        vertical-align: middle;\n",
       "    }\n",
       "\n",
       "    .dataframe tbody tr th {\n",
       "        vertical-align: top;\n",
       "    }\n",
       "\n",
       "    .dataframe thead th {\n",
       "        text-align: right;\n",
       "    }\n",
       "</style>\n",
       "<table border=\"1\" class=\"dataframe\">\n",
       "  <thead>\n",
       "    <tr style=\"text-align: right;\">\n",
       "      <th></th>\n",
       "      <th>Location</th>\n",
       "      <th>Num_Bathrooms</th>\n",
       "      <th>Num_Beds</th>\n",
       "      <th>BER_class</th>\n",
       "      <th>Description</th>\n",
       "      <th>Features</th>\n",
       "      <th>Latitude</th>\n",
       "      <th>Longitude</th>\n",
       "      <th>Type</th>\n",
       "      <th>Surface</th>\n",
       "      <th>Price</th>\n",
       "    </tr>\n",
       "  </thead>\n",
       "  <tbody>\n",
       "    <tr>\n",
       "      <th>355</th>\n",
       "      <td>Clondalkin</td>\n",
       "      <td>1</td>\n",
       "      <td>3</td>\n",
       "      <td>NaN</td>\n",
       "      <td>RAY COOKE AUCTIONEERS take great pleasure in i...</td>\n",
       "      <td>None</td>\n",
       "      <td>52.501856</td>\n",
       "      <td>-1.744995</td>\n",
       "      <td>semi-detached</td>\n",
       "      <td>79.0</td>\n",
       "      <td>199000</td>\n",
       "    </tr>\n",
       "  </tbody>\n",
       "</table>\n",
       "</div>"
      ],
      "text/plain": [
       "       Location  Num_Bathrooms  Num_Beds BER_class  \\\n",
       "355  Clondalkin              1         3       NaN   \n",
       "\n",
       "                                           Description Features   Latitude  \\\n",
       "355  RAY COOKE AUCTIONEERS take great pleasure in i...     None  52.501856   \n",
       "\n",
       "     Longitude           Type  Surface   Price  \n",
       "355  -1.744995  semi-detached     79.0  199000  "
      ]
     },
     "execution_count": 152,
     "metadata": {},
     "output_type": "execute_result"
    }
   ],
   "source": [
    "df_train.loc[df_train.Longitude>-4]"
   ]
  },
  {
   "cell_type": "markdown",
   "metadata": {},
   "source": [
    "The property with the longitudinal outlier is also an outlier in latitude. The lat/long equates to Birmingham depiste being listed as Clondalkin. We will drop this outlier."
   ]
  },
  {
   "cell_type": "code",
   "execution_count": 153,
   "metadata": {},
   "outputs": [],
   "source": [
    "df_train.drop(df_train.loc[df_train.Longitude>-4].index, inplace=True)"
   ]
  },
  {
   "cell_type": "code",
   "execution_count": 158,
   "metadata": {},
   "outputs": [
    {
     "data": {
      "text/html": [
       "<div>\n",
       "<style scoped>\n",
       "    .dataframe tbody tr th:only-of-type {\n",
       "        vertical-align: middle;\n",
       "    }\n",
       "\n",
       "    .dataframe tbody tr th {\n",
       "        vertical-align: top;\n",
       "    }\n",
       "\n",
       "    .dataframe thead th {\n",
       "        text-align: right;\n",
       "    }\n",
       "</style>\n",
       "<table border=\"1\" class=\"dataframe\">\n",
       "  <thead>\n",
       "    <tr style=\"text-align: right;\">\n",
       "      <th></th>\n",
       "      <th>Location</th>\n",
       "      <th>Num_Bathrooms</th>\n",
       "      <th>Num_Beds</th>\n",
       "      <th>BER_class</th>\n",
       "      <th>Description</th>\n",
       "      <th>Features</th>\n",
       "      <th>Latitude</th>\n",
       "      <th>Longitude</th>\n",
       "      <th>Type</th>\n",
       "      <th>Surface</th>\n",
       "      <th>Price</th>\n",
       "    </tr>\n",
       "  </thead>\n",
       "  <tbody>\n",
       "    <tr>\n",
       "      <th>506</th>\n",
       "      <td>Swords</td>\n",
       "      <td>1</td>\n",
       "      <td>4</td>\n",
       "      <td>E1</td>\n",
       "      <td>Thornton Park is a superb modern equestrian ce...</td>\n",
       "      <td>None</td>\n",
       "      <td>53.474502</td>\n",
       "      <td>-6.343483</td>\n",
       "      <td>bungalow</td>\n",
       "      <td>72236.38714</td>\n",
       "      <td>1100000</td>\n",
       "    </tr>\n",
       "  </tbody>\n",
       "</table>\n",
       "</div>"
      ],
      "text/plain": [
       "    Location  Num_Bathrooms  Num_Beds BER_class  \\\n",
       "506   Swords              1         4        E1   \n",
       "\n",
       "                                           Description Features   Latitude  \\\n",
       "506  Thornton Park is a superb modern equestrian ce...     None  53.474502   \n",
       "\n",
       "     Longitude      Type      Surface    Price  \n",
       "506  -6.343483  bungalow  72236.38714  1100000  "
      ]
     },
     "execution_count": 158,
     "metadata": {},
     "output_type": "execute_result"
    }
   ],
   "source": [
    "df_train.loc[df_train.Surface>50000]"
   ]
  },
  {
   "cell_type": "markdown",
   "metadata": {},
   "source": [
    "The **Description** indicates that this is actually an equestrian centre which explains why the surface area is an outlier. We will drop this property."
   ]
  },
  {
   "cell_type": "code",
   "execution_count": 159,
   "metadata": {},
   "outputs": [],
   "source": [
    "df_train.drop(df_train.loc[df_train.Surface>50000].index, inplace=True)"
   ]
  },
  {
   "cell_type": "code",
   "execution_count": 160,
   "metadata": {},
   "outputs": [
    {
     "data": {
      "text/html": [
       "<div>\n",
       "<style scoped>\n",
       "    .dataframe tbody tr th:only-of-type {\n",
       "        vertical-align: middle;\n",
       "    }\n",
       "\n",
       "    .dataframe tbody tr th {\n",
       "        vertical-align: top;\n",
       "    }\n",
       "\n",
       "    .dataframe thead th {\n",
       "        text-align: right;\n",
       "    }\n",
       "</style>\n",
       "<table border=\"1\" class=\"dataframe\">\n",
       "  <thead>\n",
       "    <tr style=\"text-align: right;\">\n",
       "      <th></th>\n",
       "      <th>Num_Bathrooms</th>\n",
       "      <th>Num_Beds</th>\n",
       "      <th>Latitude</th>\n",
       "      <th>Longitude</th>\n",
       "      <th>Surface</th>\n",
       "      <th>Price</th>\n",
       "    </tr>\n",
       "  </thead>\n",
       "  <tbody>\n",
       "    <tr>\n",
       "      <th>count</th>\n",
       "      <td>1633.000000</td>\n",
       "      <td>1633.000000</td>\n",
       "      <td>1633.000000</td>\n",
       "      <td>1633.000000</td>\n",
       "      <td>1633.000000</td>\n",
       "      <td>1.633000e+03</td>\n",
       "    </tr>\n",
       "    <tr>\n",
       "      <th>mean</th>\n",
       "      <td>2.030006</td>\n",
       "      <td>3.013472</td>\n",
       "      <td>53.351019</td>\n",
       "      <td>-6.257897</td>\n",
       "      <td>124.240093</td>\n",
       "      <td>5.514738e+05</td>\n",
       "    </tr>\n",
       "    <tr>\n",
       "      <th>std</th>\n",
       "      <td>1.087341</td>\n",
       "      <td>1.175137</td>\n",
       "      <td>0.073910</td>\n",
       "      <td>0.091787</td>\n",
       "      <td>186.218564</td>\n",
       "      <td>5.568198e+05</td>\n",
       "    </tr>\n",
       "    <tr>\n",
       "      <th>min</th>\n",
       "      <td>1.000000</td>\n",
       "      <td>1.000000</td>\n",
       "      <td>53.215381</td>\n",
       "      <td>-6.497000</td>\n",
       "      <td>3.400000</td>\n",
       "      <td>1.999500e+04</td>\n",
       "    </tr>\n",
       "    <tr>\n",
       "      <th>25%</th>\n",
       "      <td>1.000000</td>\n",
       "      <td>2.000000</td>\n",
       "      <td>53.294461</td>\n",
       "      <td>-6.309532</td>\n",
       "      <td>73.000000</td>\n",
       "      <td>2.950000e+05</td>\n",
       "    </tr>\n",
       "    <tr>\n",
       "      <th>50%</th>\n",
       "      <td>2.000000</td>\n",
       "      <td>3.000000</td>\n",
       "      <td>53.341667</td>\n",
       "      <td>-6.247821</td>\n",
       "      <td>97.000000</td>\n",
       "      <td>3.950000e+05</td>\n",
       "    </tr>\n",
       "    <tr>\n",
       "      <th>75%</th>\n",
       "      <td>3.000000</td>\n",
       "      <td>4.000000</td>\n",
       "      <td>53.382053</td>\n",
       "      <td>-6.194453</td>\n",
       "      <td>135.000000</td>\n",
       "      <td>5.950000e+05</td>\n",
       "    </tr>\n",
       "    <tr>\n",
       "      <th>max</th>\n",
       "      <td>9.000000</td>\n",
       "      <td>9.000000</td>\n",
       "      <td>53.630588</td>\n",
       "      <td>-6.054719</td>\n",
       "      <td>6705.000000</td>\n",
       "      <td>8.900000e+06</td>\n",
       "    </tr>\n",
       "  </tbody>\n",
       "</table>\n",
       "</div>"
      ],
      "text/plain": [
       "       Num_Bathrooms     Num_Beds     Latitude    Longitude      Surface  \\\n",
       "count    1633.000000  1633.000000  1633.000000  1633.000000  1633.000000   \n",
       "mean        2.030006     3.013472    53.351019    -6.257897   124.240093   \n",
       "std         1.087341     1.175137     0.073910     0.091787   186.218564   \n",
       "min         1.000000     1.000000    53.215381    -6.497000     3.400000   \n",
       "25%         1.000000     2.000000    53.294461    -6.309532    73.000000   \n",
       "50%         2.000000     3.000000    53.341667    -6.247821    97.000000   \n",
       "75%         3.000000     4.000000    53.382053    -6.194453   135.000000   \n",
       "max         9.000000     9.000000    53.630588    -6.054719  6705.000000   \n",
       "\n",
       "              Price  \n",
       "count  1.633000e+03  \n",
       "mean   5.514738e+05  \n",
       "std    5.568198e+05  \n",
       "min    1.999500e+04  \n",
       "25%    2.950000e+05  \n",
       "50%    3.950000e+05  \n",
       "75%    5.950000e+05  \n",
       "max    8.900000e+06  "
      ]
     },
     "execution_count": 160,
     "metadata": {},
     "output_type": "execute_result"
    }
   ],
   "source": [
    "df_train.describe()"
   ]
  },
  {
   "cell_type": "code",
   "execution_count": 161,
   "metadata": {},
   "outputs": [
    {
     "data": {
      "image/png": "[encoded data removed]",
      "text/plain": [
       "<Figure size 1152x288 with 3 Axes>"
      ]
     },
     "metadata": {
      "needs_background": "light"
     },
     "output_type": "display_data"
    },
    {
     "data": {
      "image/png": "[encoded data removed]",
      "text/plain": [
       "<Figure size 1152x288 with 3 Axes>"
      ]
     },
     "metadata": {
      "needs_background": "light"
     },
     "output_type": "display_data"
    }
   ],
   "source": [
    "plot_multiple_boxplots(dataframe=df_train, feature_list=numeric_attr[:3])\n",
    "plot_multiple_boxplots(dataframe=df_train, feature_list=numeric_attr[3:])"
   ]
  },
  {
   "cell_type": "markdown",
   "metadata": {},
   "source": [
    "We'll scale the numeric features."
   ]
  },
  {
   "cell_type": "code",
   "execution_count": 165,
   "metadata": {},
   "outputs": [
    {
     "data": {
      "text/plain": [
       "array([[<AxesSubplot:title={'center':'Num_Bathrooms'}>,\n",
       "        <AxesSubplot:title={'center':'Num_Beds'}>],\n",
       "       [<AxesSubplot:title={'center':'Latitude'}>,\n",
       "        <AxesSubplot:title={'center':'Longitude'}>],\n",
       "       [<AxesSubplot:title={'center':'Surface'}>,\n",
       "        <AxesSubplot:title={'center':'Price'}>]], dtype=object)"
      ]
     },
     "execution_count": 165,
     "metadata": {},
     "output_type": "execute_result"
    },
    {
     "data": {
      "image/png": "[encoded data removed]",
      "text/plain": [
       "<Figure size 1080x1800 with 6 Axes>"
      ]
     },
     "metadata": {
      "needs_background": "light"
     },
     "output_type": "display_data"
    }
   ],
   "source": [
    "df_train[numeric_attr].hist(bins=40, figsize=[15,25])"
   ]
  },
  {
   "cell_type": "markdown",
   "metadata": {},
   "source": [
    "**Num_Bathrooms**, **Num_Beds** and **Surface** are skewed. We'll use log transformation these and check if they are less skewed in this representation."
   ]
  },
  {
   "cell_type": "code",
   "execution_count": 167,
   "metadata": {},
   "outputs": [
    {
     "data": {
      "image/png": "[encoded data removed]",
      "text/plain": [
       "<Figure size 432x288 with 4 Axes>"
      ]
     },
     "metadata": {
      "needs_background": "light"
     },
     "output_type": "display_data"
    }
   ],
   "source": [
    "lst = ['Num_Bathrooms', 'Num_Beds', 'Surface']\n",
    "for var in lst:\n",
    "    var_min = df_train[var].min()\n",
    "    df_train[var] = np.log(df_train[var]-var_min+1.0)"
   ]
  },
  {
   "cell_type": "code",
   "execution_count": 168,
   "metadata": {},
   "outputs": [
    {
     "data": {
      "image/png": "[encoded data removed]",
      "text/plain": [
       "<Figure size 1080x1800 with 4 Axes>"
      ]
     },
     "metadata": {
      "needs_background": "light"
     },
     "output_type": "display_data"
    }
   ],
   "source": [
    "df_train[lst].hist(bins=40, figsize=[15,25])\n",
    "plt.suptitle('Log Transformed')\n",
    "plt.show()"
   ]
  },
  {
   "cell_type": "code",
   "execution_count": 169,
   "metadata": {},
   "outputs": [
    {
     "data": {
      "image/png": "[encoded data removed]",
      "text/plain": [
       "<Figure size 1152x288 with 3 Axes>"
      ]
     },
     "metadata": {
      "needs_background": "light"
     },
     "output_type": "display_data"
    },
    {
     "data": {
      "image/png": "[encoded data removed]",
      "text/plain": [
       "<Figure size 1152x288 with 3 Axes>"
      ]
     },
     "metadata": {
      "needs_background": "light"
     },
     "output_type": "display_data"
    }
   ],
   "source": [
    "plot_multiple_boxplots(dataframe=df_train, feature_list=numeric_attr[:3])\n",
    "plot_multiple_boxplots(dataframe=df_train, feature_list=numeric_attr[3:])"
   ]
  },
  {
   "cell_type": "markdown",
   "metadata": {
    "scrolled": true
   },
   "source": [
    "Following log transformation **Num_Bathrooms**, **Num_Beds** and **Surface** look less skewed.\n"
   ]
  },
  {
   "cell_type": "markdown",
   "metadata": {},
   "source": [
    "We now look for correlations between our response variable **price** and possible explanatory variables using a heatmap of our reduced dataset."
   ]
  },
  {
   "cell_type": "code",
   "execution_count": 172,
   "metadata": {},
   "outputs": [
    {
     "data": {
      "text/plain": [
       "<AxesSubplot:>"
      ]
     },
     "execution_count": 172,
     "metadata": {},
     "output_type": "execute_result"
    },
    {
     "data": {
      "image/png": "[encoded data removed]",
      "text/plain": [
       "<Figure size 432x288 with 2 Axes>"
      ]
     },
     "metadata": {
      "needs_background": "light"
     },
     "output_type": "display_data"
    }
   ],
   "source": [
    "sns.heatmap(df_train.corr(), annot = True)"
   ]
  },
  {
   "cell_type": "code",
   "execution_count": null,
   "metadata": {},
   "outputs": [],
   "source": []
  },
  {
   "cell_type": "markdown",
   "metadata": {
    "id": "Iqg9_uxFyZli"
   },
   "source": [
    "### Test dataset"
   ]
  },
  {
   "cell_type": "code",
   "execution_count": null,
   "metadata": {
    "id": "bw2_yypxMfsi"
   },
   "outputs": [],
   "source": [
    "# show first data frame rows \n",
    "dftest.head()"
   ]
  },
  {
   "cell_type": "code",
   "execution_count": null,
   "metadata": {
    "id": "FXo0x2u7T7-1"
   },
   "outputs": [],
   "source": [
    "# Generate descriptive statistics\n",
    "dftest.describe()"
   ]
  },
  {
   "cell_type": "markdown",
   "metadata": {
    "id": "UjMH1CSEUA1A"
   },
   "source": [
    "### Expected Cost dataset"
   ]
  },
  {
   "cell_type": "code",
   "execution_count": null,
   "metadata": {
    "id": "7p63sCZeUNx3"
   },
   "outputs": [],
   "source": [
    "# Generate descriptive statistics\n",
    "dfcost.describe()"
   ]
  },
  {
   "cell_type": "markdown",
   "metadata": {
    "id": "G5oRiZxo2gpN"
   },
   "source": [
    "# NATURAL LANGUAGE PROCESSING"
   ]
  },
  {
   "cell_type": "markdown",
   "metadata": {
    "id": "e8s0Wi3a8yjN"
   },
   "source": [
    "Natural language processing ([NLP](https://en.wikipedia.org/wiki/Natural_language_processing)) is a subfield of linguistics, computer science, and artificial intelligence.\n",
    "\n",
    "* NLP concerned with the interactions between computers and human language.\n",
    "* In particular how to program computers to process and analyze large amounts of natural language data. \n",
    "* The goal is a computer capable of \"understanding\" the contents of documents.\n",
    "* Including the contextual nuances of the language within them. \n",
    "* The technology can then accurately extract information and insights contained in the documents.\n",
    "* As well as categorize and organize the documents themselves. "
   ]
  },
  {
   "cell_type": "markdown",
   "metadata": {
    "id": "oValFP-z2gpN"
   },
   "source": [
    "Your comments, explanation, and references here."
   ]
  },
  {
   "cell_type": "code",
   "execution_count": null,
   "metadata": {
    "id": "e_WND6NP2gpN"
   },
   "outputs": [],
   "source": [
    "# your code here"
   ]
  },
  {
   "cell_type": "markdown",
   "metadata": {
    "id": "bJFJQxAS9HZK"
   },
   "source": [
    "# PIECEWISE REGRESSION"
   ]
  },
  {
   "cell_type": "markdown",
   "metadata": {
    "id": "QkRchZtf6IV-"
   },
   "source": [
    "**Piecewise regression**, extract from [Wikipedia](https://en.wikipedia.org/wiki/Segmented_regression):\n",
    "\n",
    "Segmented regression, also known as piecewise regression or broken-stick regression, is a method in regression analysis in which the independent variable is partitioned into intervals and a separate line segment is fit to each interval. \n",
    "\n",
    "* Segmented regression analysis can also be performed on \n",
    "multivariate data by partitioning the various independent variables. \n",
    "* Segmented regression is useful when the independent variables, clustered into different groups, exhibit different relationships between the variables in these regions. \n",
    "\n",
    "* The boundaries between the segments are breakpoints.\n",
    "\n",
    "* Segmented linear regression is segmented regression whereby the relations in the intervals are obtained by linear regression. "
   ]
  },
  {
   "cell_type": "markdown",
   "metadata": {
    "id": "po84zvge2NS7"
   },
   "source": [
    "Your comments, explanation, and references here."
   ]
  },
  {
   "cell_type": "code",
   "execution_count": null,
   "metadata": {
    "id": "pXX7Mq2Y2NrK"
   },
   "outputs": [],
   "source": [
    "# your code here"
   ]
  },
  {
   "cell_type": "code",
   "execution_count": null,
   "metadata": {
    "id": "0smpwCET5_pp"
   },
   "outputs": [],
   "source": [
    "def generate_bayesian_lin_reg_model(\n",
    "    alpha: dict={'mu':0, 'sigma':30},\n",
    "    beta: dict={'mu':0, 'sigma':30},\n",
    "    sigma: dict={'beta':5},\n",
    "    iteration_cnt: int=40000,\n",
    "    sample_cnt: int=5000,\n",
    "    X: np.ndarray=None,\n",
    "    y: np.ndarray=None\n",
    "    ):\n",
    "    \"\"\"Generate a Bayesian linear regression model\n",
    "    \n",
    "    alpha, beta defined as normal distributions\n",
    "    sigma defined as HalfCauchy distribution\n",
    "    \n",
    "    Args:\n",
    "        alpha: dict containing mu and sigma values for alpha normal distribution\n",
    "        beta: dict containing mu and sigma values for beta normal distribution\n",
    "        sigma: dict containing sigma value for sigma HalfCauchy distribution\n",
    "        iteration_cnt: int iteration count for bayesian linear reg. model fit\n",
    "        sample_cnt: int sample count drawn from posterior\n",
    "        X: np.ndarray of training data\n",
    "        y: np.ndarray of labels\n",
    "\n",
    "    Returns:\n",
    "        Approximation for the model\n",
    "        Posterior for the bayesian linear regression model\n",
    "    \"\"\"\n",
    "    with pm.Model() as model:\n",
    "        # prior over the parameters of linear regression\n",
    "        _alpha = pm.Normal('alpha', mu=alpha['mu'], sigma=alpha['sigma'])\n",
    "        # we have a beta for each column of Xn\n",
    "        _beta = pm.Normal('beta', mu=beta['mu'], sigma=beta['sigma'], shape=X.shape[1])\n",
    "        # prior over the variance of the noise\n",
    "        _sigma = pm.HalfCauchy('sigma_n', beta=sigma['beta'])\n",
    "        # linear regression relationship\n",
    "        #linear regression model in matrix form\n",
    "        _mu = _alpha + pm.math.dot(_beta, X.T)\n",
    "        # likelihood \n",
    "        like = pm.Normal('like', mu=_mu, sigma=_sigma, observed=y[:,0])\n",
    "  \n",
    "    with model:\n",
    "        # iterations of the algorithm\n",
    "        approximation = pm.fit(iteration_cnt, method='advi')\n",
    "\n",
    "    # samples from the posterior    \n",
    "    posterior = approximation.sample(sample_cnt)\n",
    "    return posterior, approximation"
   ]
  },
  {
   "cell_type": "code",
   "execution_count": null,
   "metadata": {},
   "outputs": [],
   "source": [
    "def blr(\n",
    "    posterior,\n",
    "    yscaler,\n",
    "    test,\n",
    "    ):\n",
    "    \"\"\"Calculate BLR value\n",
    "    \n",
    "    Args:\n",
    "        posterior: pymc3 MultiTrace, sampled data from posterior belief\n",
    "        yscaler: StandardScaler\n",
    "        test: np.ndarray, test data\n",
    "\n",
    "    Return:\n",
    "        BLR value\n",
    "    \"\"\"\n",
    "    y_pred_blr = np.exp(yscaler.inverse_transform(np.mean(posterior['alpha']) \n",
    "              + np.dot(np.mean(posterior['beta'],axis=0), test.T)))\n",
    "    return y_pred_blr\n",
    "\n",
    "def mae(\n",
    "    y_pred_blr,\n",
    "    y_test\n",
    "    ):\n",
    "    \"\"\"Calculate MAE value\n",
    "    \n",
    "    Args:\n",
    "        y_pred_blr: blr value\n",
    "        y_test: y values of test set\n",
    "    Return:\n",
    "        MAE value\n",
    "    \"\"\"\n",
    "    mae = np.mean(abs(y_pred_blr - y_test))\n",
    "    return mae\n",
    "\n",
    "def mape(\n",
    "    y_pred_blr,\n",
    "    y_test\n",
    "    ):\n",
    "    \"\"\"Calculate MAPE value\n",
    "    \n",
    "    Args:\n",
    "        y_pred_blr: blr value\n",
    "        y_test: y values of test set\n",
    "    Return:\n",
    "        MAPE value\n",
    "    \"\"\"\n",
    "    mape = np.mean(abs(y_pred_blr - y_test) / y_test)\n",
    "    return mape"
   ]
  },
  {
   "cell_type": "code",
   "execution_count": null,
   "metadata": {},
   "outputs": [],
   "source": [
    "def model_predict(\n",
    "    posterior,\n",
    "    X,\n",
    "    nsamples,\n",
    "    yscaler\n",
    "    ):\n",
    "    \"\"\"Generate model predictions\n",
    "    \n",
    "    Args:\n",
    "        posterior: pymc3 MultiTrace, sampled data from posterior belief\n",
    "        X: np.ndarray, training data\n",
    "        nsamples: int, number of samples to select from posterior\n",
    "        yscaler: StandardScaler\n",
    "    Return:\n",
    "        Preditions\n",
    "    \"\"\"\n",
    "    Ypred = yscaler.inverse_transform(ppc(posterior['alpha'], posterior['beta'], posterior['sigma_n'],\n",
    "                                          X, nsamples=nsamples))\n",
    "    return Ypred\n",
    "    \n",
    "def plot_model_pred_vs_observations(\n",
    "    predictions=None,\n",
    "    log_labels=None,\n",
    "    title=None\n",
    "    ):\n",
    "    \"\"\"Plot the model predictions against the actual observations\n",
    "    \n",
    "    Args:\n",
    "        predictions: np.ndarray, model predictions\n",
    "        log_labels: np.ndarray, log of y labels\n",
    "    Return:\n",
    "        None\n",
    "    \n",
    "    \"\"\"\n",
    "    for i in range(predictions.shape[0]):\n",
    "        az.plot_dist(predictions[i,:], color='r', plot_kwargs={\"linewidth\": 0.2})\n",
    "    az.plot_dist(predictions[i,:], color='r', plot_kwargs={\"linewidth\": 0.2}, label=\"prediction\")\n",
    "    az.plot_dist(log_labels, label='true observations');\n",
    "    plt.legend()\n",
    "    plt.xlabel(\"log(y) - output variable\")\n",
    "    plt.ylabel(\"density plot\")\n",
    "    plt.title(title, fontsize=20)"
   ]
  },
  {
   "cell_type": "code",
   "execution_count": null,
   "metadata": {},
   "outputs": [],
   "source": [
    "def prep_cluster_data(\n",
    "    train_data: np.ndarray=None,\n",
    "    test_data: np.ndarray=None,\n",
    "    label_data: np.ndarray=None,\n",
    "    clusters_train_labels: np.ndarray=None,\n",
    "    clusters_test_labels: np.ndarray=None,\n",
    "    idx: int=0\n",
    "    ):\n",
    "    \"\"\"Return cluster specific training and test data from all clustered data.\n",
    "       The training data has already been clustered and we wish to separate it\n",
    "       into training data specific to a single cluster as defined by 'idx'\n",
    "    \n",
    "    Args:\n",
    "        train_data: np.ndarray containing all clustered training data\n",
    "        test_data: np.ndarray containing all clustered test data\n",
    "        label_data: np.ndarray containing all label data\n",
    "        clusters_train_labels: np.ndarray containing all cluster train labels (data belonging to which cluster)\n",
    "        clusters_test_labels: np.ndarray containing all cluster tsst labels (data belonging to which cluster)\n",
    "        idx: int index of which cluster to return\n",
    "    Returns:\n",
    "        np.ndarray: cluster specific training data\n",
    "        np.ndarray: cluster specific test data\n",
    "        np.ndarray: log of label data specific to cluster\n",
    "        StandardScaler: scaler for label data\n",
    "        np.ndarray: transformed log of label data\n",
    "    \"\"\"\n",
    "    Xn = train_data[clusters_train_labels==idx,:]\n",
    "    Xtestn = test_data[clusters_test_labels==idx,:]\n",
    "    ylog = np.log(label_data.astype('float')[clusters_train_labels==idx,:])\n",
    "    yscaler = StandardScaler().fit(ylog)\n",
    "    yn = yscaler.transform(ylog)\n",
    "    \n",
    "    return Xn, Xtestn, ylog, yscaler, yn"
   ]
  },
  {
   "cell_type": "markdown",
   "metadata": {
    "id": "_kFgkUA85_pn"
   },
   "source": [
    "# BAYESIAN NN"
   ]
  },
  {
   "cell_type": "markdown",
   "metadata": {
    "id": "ELer5PV37ftX"
   },
   "source": [
    "A [Bayesian network](https://en.wikipedia.org/wiki/Bayesian_network) (also known as a Bayes network, Bayes net, belief network, or decision network) is a probabilistic graphical model that represents a set of variables and their conditional dependencies via a directed acyclic graph (DAG). \n",
    "\n",
    "* Bayesian networks are ideal for taking an event that occurred and predicting the likelihood that any one of several possible known causes was the contributing factor. \n",
    "* For example, a Bayesian network could represent the probabilistic relationships between diseases and symptoms. \n",
    "* Given symptoms, the network can be used to compute the probabilities of the presence of various diseases."
   ]
  },
  {
   "cell_type": "markdown",
   "metadata": {
    "id": "z0kauv1L5_po"
   },
   "source": [
    "Your comments, explanation, and references here."
   ]
  },
  {
   "cell_type": "markdown",
   "metadata": {
    "id": "f0GYCpwEM09T"
   },
   "source": [
    "# SUMMARY"
   ]
  },
  {
   "cell_type": "markdown",
   "metadata": {
    "id": "rBDzsZSJ7HZp"
   },
   "source": [
    "Your summary here."
   ]
  }
 ],
 "metadata": {
  "colab": {
   "name": "ET5003_KaggleCompetition.ipynb",
   "provenance": []
  },
  "kernelspec": {
   "display_name": "Python 3",
   "language": "python",
   "name": "python3"
  },
  "language_info": {
   "codemirror_mode": {
    "name": "ipython",
    "version": 3
   },
   "file_extension": ".py",
   "mimetype": "text/x-python",
   "name": "python",
   "nbconvert_exporter": "python",
   "pygments_lexer": "ipython3",
   "version": "3.7.7"
  }
 },
 "nbformat": 4,
 "nbformat_minor": 1
}
